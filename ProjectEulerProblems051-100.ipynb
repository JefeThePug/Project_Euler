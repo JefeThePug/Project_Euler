{
 "cells": [
  {
   "cell_type": "markdown",
   "id": "54b0b812",
   "metadata": {},
   "source": [
    "<font size=\"20\" color=\"yellow\">**Project Euler 1-50**</font>"
   ]
  },
  {
   "cell_type": "markdown",
   "id": "d252b8c0",
   "metadata": {},
   "source": [
    "#### 51: Prime Digit Replacements"
   ]
  },
  {
   "cell_type": "code",
   "execution_count": 38,
   "id": "eb2f1d70",
   "metadata": {},
   "outputs": [
    {
     "ename": "KeyboardInterrupt",
     "evalue": "",
     "output_type": "error",
     "traceback": [
      "\u001b[0;31m---------------------------------------------------------------------------\u001b[0m",
      "\u001b[0;31mKeyboardInterrupt\u001b[0m                         Traceback (most recent call last)",
      "Input \u001b[0;32mIn [38]\u001b[0m, in \u001b[0;36m<cell line: 16>\u001b[0;34m()\u001b[0m\n\u001b[1;32m     21\u001b[0m x3 \u001b[38;5;241m=\u001b[39m \u001b[38;5;241m0\u001b[39m\n\u001b[1;32m     22\u001b[0m \u001b[38;5;28;01mfor\u001b[39;00m d \u001b[38;5;129;01min\u001b[39;00m \u001b[38;5;28mrange\u001b[39m(\u001b[38;5;241m10\u001b[39m):\n\u001b[0;32m---> 23\u001b[0m     \u001b[38;5;28;01mif\u001b[39;00m \u001b[38;5;28;43mint\u001b[39;49m\u001b[43m(\u001b[49m\u001b[38;5;124;43mf\u001b[39;49m\u001b[38;5;124;43m\"\u001b[39;49m\u001b[38;5;132;43;01m{\u001b[39;49;00m\u001b[43mna\u001b[49m\u001b[38;5;132;43;01m}\u001b[39;49;00m\u001b[38;5;132;43;01m{\u001b[39;49;00m\u001b[43md\u001b[49m\u001b[38;5;132;43;01m}\u001b[39;49;00m\u001b[38;5;132;43;01m{\u001b[39;49;00m\u001b[43md\u001b[49m\u001b[38;5;132;43;01m}\u001b[39;49;00m\u001b[38;5;132;43;01m{\u001b[39;49;00m\u001b[43mnb\u001b[49m\u001b[38;5;132;43;01m}\u001b[39;49;00m\u001b[38;5;124;43m\"\u001b[39;49m\u001b[43m)\u001b[49m\u001b[43m \u001b[49m\u001b[38;5;129;43;01min\u001b[39;49;00m\u001b[43m \u001b[49m\u001b[43mprimes\u001b[49m:\n\u001b[1;32m     24\u001b[0m         x2 \u001b[38;5;241m+\u001b[39m\u001b[38;5;241m=\u001b[39m \u001b[38;5;241m1\u001b[39m\n\u001b[1;32m     25\u001b[0m     \u001b[38;5;28;01mif\u001b[39;00m \u001b[38;5;28mint\u001b[39m(\u001b[38;5;124mf\u001b[39m\u001b[38;5;124m\"\u001b[39m\u001b[38;5;132;01m{\u001b[39;00mna\u001b[38;5;132;01m}\u001b[39;00m\u001b[38;5;132;01m{\u001b[39;00md\u001b[38;5;132;01m}\u001b[39;00m\u001b[38;5;132;01m{\u001b[39;00md\u001b[38;5;132;01m}\u001b[39;00m\u001b[38;5;132;01m{\u001b[39;00md\u001b[38;5;132;01m}\u001b[39;00m\u001b[38;5;132;01m{\u001b[39;00mnb\u001b[38;5;132;01m}\u001b[39;00m\u001b[38;5;124m\"\u001b[39m) \u001b[38;5;129;01min\u001b[39;00m primes:\n",
      "\u001b[0;31mKeyboardInterrupt\u001b[0m: "
     ]
    }
   ],
   "source": [
    "import math\n",
    "from time import perf_counter\n",
    "\n",
    "start = perf_counter()\n",
    "\n",
    "def get_primes(n):\n",
    "    primes = 2*[False] + (n-1)*[True]\n",
    "    for i in range(2, int(math.sqrt(n) + 1)):\n",
    "        for j in range(i*i, n+1, i):\n",
    "            primes[j] = False\n",
    "    return [prime for prime, is_true in enumerate(primes) if is_true]\n",
    "\n",
    "primes = get_primes(1000000)\n",
    "\n",
    "found = False\n",
    "for num in range(11, 10000, 2):\n",
    "    if found: break\n",
    "    na = f\"{num}\"[:-1]\n",
    "    nb = f\"{num}\"[-1]\n",
    "    x2 = 0\n",
    "    x3 = 0\n",
    "    for d in range(10):\n",
    "        if int(f\"{na}{d}{d}{nb}\") in primes:\n",
    "            x2 += 1\n",
    "        if int(f\"{na}{d}{d}{d}{nb}\") in primes:\n",
    "            x3 += 1\n",
    "        if x2 == 8:\n",
    "            print(f\"{na}{d}{d}{nb}\")\n",
    "            found = True\n",
    "            break\n",
    "        if x3 == 8:\n",
    "            print(f\"{na}{d}{d}{d}{nb}\")\n",
    "            found = True\n",
    "            break\n",
    "\n",
    "print(f\"{perf_counter() - start} seconds\".rjust(100))"
   ]
  },
  {
   "cell_type": "code",
   "execution_count": null,
   "id": "f08bc27a",
   "metadata": {},
   "outputs": [],
   "source": []
  },
  {
   "cell_type": "code",
   "execution_count": null,
   "id": "19eb2fb2",
   "metadata": {},
   "outputs": [],
   "source": []
  },
  {
   "cell_type": "markdown",
   "id": "81de8416",
   "metadata": {},
   "source": [
    "   "
   ]
  },
  {
   "cell_type": "markdown",
   "id": "1008c60b",
   "metadata": {},
   "source": [
    "#### 52: Permuted Multiples"
   ]
  },
  {
   "cell_type": "code",
   "execution_count": 104,
   "id": "bb1c69a7",
   "metadata": {},
   "outputs": [
    {
     "name": "stdout",
     "output_type": "stream",
     "text": [
      "142857\n",
      "                                                                        0.046054028998696594 seconds\n"
     ]
    }
   ],
   "source": [
    "from time import perf_counter\n",
    "\n",
    "start = perf_counter()\n",
    "\n",
    "def digit_check(n):\n",
    "    strings = [f\"{n * i}\" for i in range(1, 7)]\n",
    "    s1 = strings[0]\n",
    "    for item in strings[1:]:\n",
    "        if len(item) != len(s1): return False\n",
    "        if set(item) != set(s1): return False\n",
    "    return True\n",
    "\n",
    "for i in range(125874,1000001):\n",
    "    if digit_check(i):\n",
    "        print(i)\n",
    "        break\n",
    "\n",
    "\n",
    "print(f\"{perf_counter() - start} seconds\".rjust(100))"
   ]
  },
  {
   "cell_type": "markdown",
   "id": "8f69b1d3",
   "metadata": {},
   "source": [
    "   "
   ]
  },
  {
   "cell_type": "markdown",
   "id": "ae2de7ed",
   "metadata": {},
   "source": [
    "#### 53: Combinatoric Selections"
   ]
  },
  {
   "cell_type": "code",
   "execution_count": 1,
   "id": "ed81eff0",
   "metadata": {},
   "outputs": [
    {
     "name": "stdout",
     "output_type": "stream",
     "text": [
      "4075\n",
      "                                                                        0.011141666000000328 seconds\n"
     ]
    }
   ],
   "source": [
    "import math\n",
    "from time import perf_counter\n",
    "from itertools import combinations\n",
    "\n",
    "start = perf_counter()\n",
    "\n",
    "res = 0\n",
    "for n in range(1,101):\n",
    "    for r in range(1,n):\n",
    "        l = math.factorial(n)/(math.factorial(r)*math.factorial(n-r))\n",
    "        if l > 1000000:\n",
    "            res += 1\n",
    "print(res)\n",
    "\n",
    "print(f\"{perf_counter() - start} seconds\".rjust(100))"
   ]
  },
  {
   "cell_type": "markdown",
   "id": "76a0cc9b",
   "metadata": {},
   "source": [
    "   "
   ]
  },
  {
   "cell_type": "markdown",
   "id": "2d59a1a9",
   "metadata": {},
   "source": [
    "#### 54: Poker Hands"
   ]
  },
  {
   "cell_type": "code",
   "execution_count": 269,
   "id": "bc00813c",
   "metadata": {},
   "outputs": [
    {
     "name": "stdout",
     "output_type": "stream",
     "text": [
      "player1wins = 376\n",
      "                                                                         0.04408607800723985 seconds\n"
     ]
    }
   ],
   "source": [
    "from time import perf_counter\n",
    "from collections import Counter\n",
    "\n",
    "start = perf_counter()\n",
    "\n",
    "class Card:\n",
    "    def __init__(self, card_str):\n",
    "        values = {v: i for i, v in enumerate(\"23456789TJQKA\", 2)}\n",
    "        self.suit = card_str[1]\n",
    "        self.val = values[card_str[0]]\n",
    "\n",
    "class Hand:\n",
    "    def __init__(self, cards):\n",
    "        self.hand_vals = sorted([card.val for card in cards])\n",
    "        self.high = self.hand_vals[-1]\n",
    "        self.kinds = self.is_a_kind()\n",
    "        k1 = len(self.kinds[\"pairs\"]) == 1\n",
    "        k2 = len(self.kinds[\"pairs\"]) == 2\n",
    "        k3 = len(self.kinds[\"threes\"]) == 1\n",
    "        st = self.hand_vals == list(range(self.hand_vals[0], self.high + 1))\n",
    "        fl = len(set([card.suit for card in cards])) == 1\n",
    "        fh = k1 and k3\n",
    "        k4 = len(self.kinds[\"fours\"]) == 1\n",
    "        sf = fl and st\n",
    "        rf = self.hand_vals[0] == 10 and sf\n",
    "        rank = [k1, k2, k3, st, fl, fh, k4, sf, rf]\n",
    "        self.rank = max([i * h for i, h in enumerate(rank, 1)])\n",
    "\n",
    "    def is_a_kind(self):\n",
    "        ref = [\"pairs\", \"threes\", \"fours\"]\n",
    "        a_kinds = {s: [] for s in ref}\n",
    "        for val, t in Counter(self.hand_vals).most_common():\n",
    "            if t == 1: break\n",
    "            a_kinds[ref[t - 2]].append(val)\n",
    "        return a_kinds\n",
    "\n",
    "def break_tie(p1, p2):\n",
    "    values = {\"pairs\": 1, \"threes\": 10, \"fours\": 100}\n",
    "    s1 = sum([sum(val) * values[t] for t, val in p1.kinds.items()])\n",
    "    s2 = sum([sum(val) * values[t] for t, val in p2.kinds.items()])\n",
    "    if s1 != s2: return s1 > s2\n",
    "    for c1, c2 in zip(p1.hand_vals[::-1],p2.hand_vals[::-1]):\n",
    "        if c1 == c2: continue\n",
    "        return c1 > c2\n",
    "\n",
    "def check_p1_winner(p1, p2):\n",
    "    if (dif := p1.rank - p2.rank) == 0: return break_tie(p1, p2)\n",
    "    return dif > 0\n",
    "\n",
    "player1wins = 0\n",
    "with open(\"poker.txt\", \"r\") as f:\n",
    "    games = f.read().split(\"\\n\")\n",
    "for game in games:\n",
    "    hands = game.split()\n",
    "    player1wins += check_p1_winner(\n",
    "        Hand([Card(x) for x in hands[:5]]), \n",
    "        Hand([Card(x) for x in hands[5:]])\n",
    "    )\n",
    "\n",
    "print(f\"{player1wins = }\")\n",
    "\n",
    "print(f\"{perf_counter() - start} seconds\".rjust(100))"
   ]
  },
  {
   "cell_type": "code",
   "execution_count": 267,
   "id": "9caa279a",
   "metadata": {},
   "outputs": [
    {
     "name": "stdout",
     "output_type": "stream",
     "text": [
      "376\n",
      "                                                                        0.010084560999530368 seconds\n"
     ]
    }
   ],
   "source": [
    "start = perf_counter()\n",
    "def rank(s, val_dict={c:i for i, c in enumerate('23456789TJQKA', 2)},\n",
    "         pair_dict={(2,1):1, (2,2):2, (3,1):3, (3,2):6, (4,1):7},\n",
    "         no_pair_dict={(0,0):0, (1,0):4, (0,1):5, (1,1):8}):\n",
    "    repeats = [(s[::3].count(c), val_dict[c], suit) for c, suit in s.split()]\n",
    "    repeats.sort(reverse=True)\n",
    "    counts, vals, suits = zip(*repeats)\n",
    "    if counts[0] > 1: rk = pair_dict[(counts[0], counts[counts[0]])]    \n",
    "    else: rk = no_pair_dict[(vals[0] - vals[-1] == 4, len(set(suits)) == 1)]\n",
    "    return (rk,) + vals\n",
    "\n",
    "with open('poker.txt', 'r') as f:\n",
    "    print(sum(rank(s[:14]) > rank(s[15:]) for s in f))\n",
    "print(f\"{perf_counter() - start} seconds\".rjust(100))"
   ]
  },
  {
   "cell_type": "code",
   "execution_count": 268,
   "id": "663a33b4",
   "metadata": {},
   "outputs": [
    {
     "name": "stdout",
     "output_type": "stream",
     "text": [
      "376\n",
      "                                                                         0.00915311899734661 seconds\n"
     ]
    }
   ],
   "source": [
    "start = perf_counter()\n",
    "D = dict(zip(zip((0,2,2,3,1,0,3,4,1),(0,1,2,1,0,1,2,1,1)), range(9)))\n",
    "def rank(H, v=dict(zip(b'23456789TJQKA', range(13)))):\n",
    "    C,V,S = zip(*reversed(sorted([(H.count(c), v[c], s) for c, s in H.split()])))\n",
    "    return D[(C[0], C[C[0]]) if C[0]>1 else (V[0]-V[4]==4, len(set(S))==1)], V\n",
    "\n",
    "print(sum([rank(s[:14]) > rank(s[15:]) for s in open('poker.txt', 'rb')]))\n",
    "print(f\"{perf_counter() - start} seconds\".rjust(100))"
   ]
  },
  {
   "cell_type": "markdown",
   "id": "43aa56a1",
   "metadata": {},
   "source": [
    "   "
   ]
  },
  {
   "cell_type": "markdown",
   "id": "1bfe704a",
   "metadata": {},
   "source": [
    "#### 55: Lychrel Numbers"
   ]
  },
  {
   "cell_type": "code",
   "execution_count": 6,
   "id": "e7ea12f3",
   "metadata": {},
   "outputs": [
    {
     "name": "stdout",
     "output_type": "stream",
     "text": [
      "249\n",
      "                                                                        0.041036736000009455 seconds\n"
     ]
    }
   ],
   "source": [
    "from time import perf_counter\n",
    "\n",
    "start = perf_counter()\n",
    "\n",
    "def check_palindrome(n):\n",
    "    n1 = n\n",
    "    for _ in range(50):\n",
    "        n2 = int(f\"{n1}\"[::-1])\n",
    "        if (s:=f\"{n1+n2}\") == s[::-1]:\n",
    "            return True\n",
    "        n1 = int(s)\n",
    "    return False\n",
    "\n",
    "print(10000-sum([check_palindrome(n) for n in range(1,10001)]))\n",
    "\n",
    "print(f\"{perf_counter() - start} seconds\".rjust(100))"
   ]
  },
  {
   "cell_type": "markdown",
   "id": "3d4f03e6",
   "metadata": {},
   "source": [
    "   "
   ]
  },
  {
   "cell_type": "markdown",
   "id": "89f2a3f6",
   "metadata": {},
   "source": [
    "#### 56: Powerful Digit Sum"
   ]
  },
  {
   "cell_type": "code",
   "execution_count": 23,
   "id": "f5420a8f",
   "metadata": {},
   "outputs": [
    {
     "name": "stdout",
     "output_type": "stream",
     "text": [
      "972\n",
      "                                                                          0.1066321880000487 seconds\n"
     ]
    }
   ],
   "source": [
    "from time import perf_counter\n",
    "\n",
    "start = perf_counter()\n",
    "\n",
    "l = [[a**b for a in range(1,100)] for b in range(1,100)]\n",
    "print(max([sum(map(int,list(f\"{n}\"))) for sub in l for n in sub]))\n",
    "\n",
    "print(f\"{perf_counter() - start} seconds\".rjust(100))"
   ]
  },
  {
   "cell_type": "markdown",
   "id": "3d831456",
   "metadata": {},
   "source": [
    "    "
   ]
  },
  {
   "cell_type": "markdown",
   "id": "745392b2",
   "metadata": {},
   "source": [
    "#### 57: Square Root Convergents"
   ]
  },
  {
   "cell_type": "code",
   "execution_count": 32,
   "id": "41dac74c",
   "metadata": {},
   "outputs": [
    {
     "name": "stdout",
     "output_type": "stream",
     "text": [
      "                                                                       4.291300001568743e-05 seconds\n"
     ]
    }
   ],
   "source": [
    "from time import perf_counter\n",
    "\n",
    "start = perf_counter()\n",
    "\n",
    "#NIGHTMARE!\n",
    "\n",
    "print(f\"{perf_counter() - start} seconds\".rjust(100))"
   ]
  },
  {
   "cell_type": "code",
   "execution_count": null,
   "id": "88ae6cb2",
   "metadata": {},
   "outputs": [],
   "source": []
  },
  {
   "cell_type": "code",
   "execution_count": null,
   "id": "8508222e",
   "metadata": {},
   "outputs": [],
   "source": []
  },
  {
   "cell_type": "markdown",
   "id": "b1db8c65",
   "metadata": {},
   "source": [
    "    "
   ]
  },
  {
   "cell_type": "markdown",
   "id": "e01cdf11",
   "metadata": {},
   "source": [
    "#### 58: Spiral Primes"
   ]
  },
  {
   "cell_type": "code",
   "execution_count": 7,
   "id": "7c514676",
   "metadata": {},
   "outputs": [
    {
     "name": "stdout",
     "output_type": "stream",
     "text": [
      "26241\n",
      "                                                                           4.110909536999998 seconds\n"
     ]
    }
   ],
   "source": [
    "import math\n",
    "from time import perf_counter\n",
    "\n",
    "start = perf_counter()\n",
    "\n",
    "def is_prime(n):\n",
    "    for i in range(3, int(math.sqrt(n))+1, 2):\n",
    "        if n % i == 0:\n",
    "            return False\n",
    "    return True\n",
    "\n",
    "primes = 0\n",
    "diags = 1\n",
    "i = 0\n",
    "ring = 1\n",
    "ratio = 1\n",
    "\n",
    "while ratio > 0.1:\n",
    "    diags += 4\n",
    "    for _ in range(4):\n",
    "        i += ring\n",
    "        n = 2*i + 1\n",
    "        if is_prime(n): primes += 1\n",
    "    ratio = primes/diags\n",
    "    ring += 1\n",
    "    \n",
    "print(int(math.sqrt(n)))\n",
    "\n",
    "print(f\"{perf_counter() - start} seconds\".rjust(100))"
   ]
  },
  {
   "cell_type": "markdown",
   "id": "a9b14066",
   "metadata": {},
   "source": [
    "    "
   ]
  },
  {
   "cell_type": "markdown",
   "id": "ffb9ad24",
   "metadata": {},
   "source": [
    "#### 59: XOR Decryption"
   ]
  },
  {
   "cell_type": "markdown",
   "id": "77fdd061",
   "metadata": {},
   "source": [
    "<font color='red'>*Brute Force*</font>"
   ]
  },
  {
   "cell_type": "code",
   "execution_count": 98,
   "id": "5ad5b8fd",
   "metadata": {},
   "outputs": [
    {
     "name": "stdout",
     "output_type": "stream",
     "text": [
      "129448\n",
      "                                                                          1.3565983959997538 seconds\n"
     ]
    }
   ],
   "source": [
    "from time import perf_counter\n",
    "from itertools import cycle\n",
    "\n",
    "start = perf_counter()\n",
    "\n",
    "def get_sum_msg(m):\n",
    "    for a in range(97,123):\n",
    "        for b in range(97,123):\n",
    "            for c in range(97,123):\n",
    "                msg = \"\".join([chr(i^int(j)) for i, j in zip(cycle([a, b, c]), m)])\n",
    "                if \"number\" in msg:\n",
    "                    return sum([ord(x) for x in msg])\n",
    "                \n",
    "with open(\"cipher.txt\") as f:\n",
    "    sum_msg = get_sum_msg(f.read().split(\",\"))\n",
    "    print(sum_msg)\n",
    "\n",
    "print(f\"{perf_counter() - start} seconds\".rjust(100))"
   ]
  },
  {
   "cell_type": "markdown",
   "id": "dc83a04f",
   "metadata": {},
   "source": [
    "<font color='cyan'>**Frequency Analysis**</font>"
   ]
  },
  {
   "cell_type": "code",
   "execution_count": 96,
   "id": "4ebb7a31",
   "metadata": {},
   "outputs": [
    {
     "name": "stdout",
     "output_type": "stream",
     "text": [
      "129448\n",
      "                                                                       0.0020571630002450547 seconds\n"
     ]
    }
   ],
   "source": [
    "from time import perf_counter\n",
    "from itertools import cycle\n",
    "from collections import Counter\n",
    "\n",
    "start = perf_counter()\n",
    "\n",
    "with open('cipher.txt') as f:\n",
    "    cipher = [int(x) for x in f.read().split(',')]\n",
    "\n",
    "len_key = 3\n",
    "c_parts = [cipher[i::len_key] for i in range(len_key)]\n",
    "key = [(Counter(c).most_common(1)[0][0]^ord(\" \")) for c in c_parts]\n",
    "# msg = \"\".join([chr(i^j) for i, j in zip(cycle(key), cipher)])\n",
    "sum_msg = sum([i^j for i, j in zip(cycle(key), cipher)])\n",
    "print(sum_msg)\n",
    "\n",
    "print(f\"{perf_counter() - start} seconds\".rjust(100))"
   ]
  },
  {
   "cell_type": "markdown",
   "id": "f8f6536f",
   "metadata": {},
   "source": [
    "   "
   ]
  },
  {
   "cell_type": "markdown",
   "id": "79beb89d",
   "metadata": {},
   "source": [
    "#### 60: Prime Pair Sets"
   ]
  },
  {
   "cell_type": "code",
   "execution_count": 99,
   "id": "8391cac6",
   "metadata": {},
   "outputs": [
    {
     "name": "stdout",
     "output_type": "stream",
     "text": [
      "                                                                      4.5849999878555536e-05 seconds\n"
     ]
    }
   ],
   "source": [
    "from time import perf_counter\n",
    "\n",
    "start = perf_counter()\n",
    "\n",
    "#nightmare!\n",
    "\n",
    "print(f\"{perf_counter() - start} seconds\".rjust(100))"
   ]
  },
  {
   "cell_type": "code",
   "execution_count": null,
   "id": "179a1c7d",
   "metadata": {},
   "outputs": [],
   "source": []
  },
  {
   "cell_type": "code",
   "execution_count": null,
   "id": "eac9b5f6",
   "metadata": {},
   "outputs": [],
   "source": []
  },
  {
   "cell_type": "markdown",
   "id": "4ed8617d",
   "metadata": {},
   "source": [
    "    "
   ]
  },
  {
   "cell_type": "markdown",
   "id": "0b307a88",
   "metadata": {},
   "source": [
    "#### 61: Cyclical Figurate Numbers"
   ]
  },
  {
   "cell_type": "code",
   "execution_count": 20,
   "id": "903621b7",
   "metadata": {},
   "outputs": [
    {
     "name": "stdout",
     "output_type": "stream",
     "text": [
      "                                                                        0.015371063000088725 seconds\n"
     ]
    }
   ],
   "source": [
    "import math\n",
    "from time import perf_counter\n",
    "from itertools import permutations\n",
    "\n",
    "start = perf_counter()\n",
    "\n",
    "def get_figurates():\n",
    "    p = [[],[],[],[],[],[]]\n",
    "    for i in range(1000, 10000):\n",
    "        s = f\"{i}\"\n",
    "        if (x:=(-1 + math.sqrt(1 + 8 * i))) % 2:\n",
    "            p[0].append(s)\n",
    "        if math.sqrt(i).is_integer():\n",
    "            p[1].append(s)\n",
    "        if (1 + math.sqrt(1 + 24 * i)) % 6 == 0:\n",
    "            p[2].append(s)\n",
    "        if x % 4 == 0:\n",
    "            p[3].append(s)\n",
    "        if (3 + math.sqrt(9 + 40 * i)) % 10 == 0:\n",
    "            p[4].append(s)\n",
    "        if (1 + math.sqrt(1 + 3 * i)) % 3 == 0:\n",
    "            p[5].append(s)\n",
    "    return p\n",
    "\n",
    "p = []*3 + get_figurates()\n",
    "\n",
    "\n",
    "\n",
    "print(f\"{perf_counter() - start} seconds\".rjust(100))"
   ]
  },
  {
   "cell_type": "code",
   "execution_count": null,
   "id": "3297e95f",
   "metadata": {},
   "outputs": [],
   "source": [
    "Square Numbers - [32, 99]\n",
    "Pentagonal Numbers - [26, 81]\n",
    "Hexagonal Numbers - [23, 70]\n",
    "Heptagonal Numbers - [21, 63]\n",
    "Octagonal Numbers - [19, 59]"
   ]
  },
  {
   "cell_type": "code",
   "execution_count": 31,
   "id": "76c95cac",
   "metadata": {},
   "outputs": [
    {
     "name": "stdout",
     "output_type": "stream",
     "text": [
      "28684\n",
      "0.026613950729370117\n"
     ]
    }
   ],
   "source": [
    "import time\n",
    "start = time.time()\n",
    "\n",
    "tria = [n*(n+1)//2 for n in range(45, 141)]\n",
    "squa = [pow(n, 2) for n in range(32, 100)]\n",
    "pent = [n*(3*n-1)//2 for n in range(26, 82)]\n",
    "hexa = [n*(2*n-1) for n in range(23, 71)]\n",
    "hept = [n*(5*n-3)//2 for n in range(21, 64)]\n",
    "octa = [n*(3*n-2) for n in range(19, 59)]\n",
    "\n",
    "tria_div = [(x//100, x - (x//100)*100) for x in tria]\n",
    "squa_div = [(x//100, x - (x//100)*100) for x in squa]\n",
    "pent_div = [(x//100, x - (x//100)*100) for x in pent]\n",
    "hexa_div = [(x//100, x - (x//100)*100) for x in hexa]\n",
    "hept_div = [(x//100, x - (x//100)*100) for x in hept]\n",
    "octa_div = [(x//100, x - (x//100)*100) for x in octa]\n",
    "\n",
    "# all polygonal numbers except octagonal numbers\n",
    "tsphh = [hept_div, hexa_div, pent_div, squa_div, tria_div]\n",
    "\n",
    "# polgon 2\n",
    "for polygon2 in tsphh:\n",
    "    # octagonal number tuples will be polygon 1\n",
    "    for n1 in octa_div:\n",
    "        # for each number in polygon 2\n",
    "        for n2 in polygon2:\n",
    "            # check the cyclicity\n",
    "            if n1[1] == n2[0]:\n",
    "                # polygon 3\n",
    "                for polygon3 in tsphh:\n",
    "                    # check if we are not using the same polygon again\n",
    "                    if polygon3 != polygon2:\n",
    "                        # for each number in polygon 3\n",
    "                        for n3 in polygon3:\n",
    "                            # check the cylicity\n",
    "                            if n2[1] == n3[0]:\n",
    "                                # polygon 4\n",
    "                                for polygon4 in tsphh:\n",
    "                                    if (polygon4 != polygon3 and\n",
    "                                        polygon4 != polygon2):\n",
    "                                        for n4 in polygon4:\n",
    "                                            if n3[1] == n4[0]:\n",
    "                                                # polygon 5\n",
    "                                                for polygon5 in tsphh:\n",
    "                                                    if (polygon5 != polygon4 and\n",
    "                                                        polygon5 != polygon3 and\n",
    "                                                        polygon5 != polygon2):\n",
    "                                                        for n5 in polygon5:\n",
    "                                                            if n4[1] == n5[0]:\n",
    "                                                                # polygon 6\n",
    "                                                                for polygon6 in tsphh:\n",
    "                                                                    if (polygon6 != polygon5 and\n",
    "                                                                        polygon6 != polygon4 and\n",
    "                                                                        polygon6 != polygon3 and\n",
    "                                                                        polygon6 != polygon2):\n",
    "                                                                        for n6 in polygon6:\n",
    "                                                                            if n6[0] == n5[1] and n6[1] == n1[0]:\n",
    "                                                                                numbers = [n1, n2, n3, n4, n5, n6]\n",
    "                                                                                print(sum([num[0]*100+num[1] for num in numbers]))\n",
    "\n",
    "# time at the end of program\n",
    "end = time.time()\n",
    "\n",
    "# total time taken for program execution\n",
    "print(end - start)"
   ]
  },
  {
   "cell_type": "markdown",
   "id": "fdb9e344",
   "metadata": {},
   "source": [
    "    "
   ]
  },
  {
   "cell_type": "markdown",
   "id": "510de432",
   "metadata": {},
   "source": [
    "#### 62:"
   ]
  },
  {
   "cell_type": "code",
   "execution_count": 13,
   "id": "c43bea41",
   "metadata": {},
   "outputs": [
    {
     "name": "stdout",
     "output_type": "stream",
     "text": [
      "                                                                      4.0630000000874134e-05 seconds\n"
     ]
    }
   ],
   "source": [
    "from time import perf_counter\n",
    "\n",
    "start = perf_counter()\n",
    "\n",
    "\n",
    "\n",
    "print(f\"{perf_counter() - start} seconds\".rjust(100))"
   ]
  },
  {
   "cell_type": "code",
   "execution_count": null,
   "id": "2a2831fe",
   "metadata": {},
   "outputs": [],
   "source": []
  },
  {
   "cell_type": "code",
   "execution_count": null,
   "id": "3264e832",
   "metadata": {},
   "outputs": [],
   "source": []
  },
  {
   "cell_type": "markdown",
   "id": "bc189761",
   "metadata": {},
   "source": [
    "    "
   ]
  },
  {
   "cell_type": "markdown",
   "id": "2e7e3afc",
   "metadata": {},
   "source": [
    "#### 63:"
   ]
  },
  {
   "cell_type": "code",
   "execution_count": 47,
   "id": "443ef867",
   "metadata": {},
   "outputs": [
    {
     "name": "stdout",
     "output_type": "stream",
     "text": [
      "                                                                       4.563599941320717e-05 seconds\n"
     ]
    }
   ],
   "source": [
    "from time import perf_counter\n",
    "\n",
    "start = perf_counter()\n",
    "\n",
    "\n",
    "\n",
    "print(f\"{perf_counter() - start} seconds\".rjust(100))"
   ]
  },
  {
   "cell_type": "code",
   "execution_count": null,
   "id": "099d728c",
   "metadata": {},
   "outputs": [],
   "source": []
  },
  {
   "cell_type": "code",
   "execution_count": null,
   "id": "1c7456ca",
   "metadata": {},
   "outputs": [],
   "source": []
  },
  {
   "cell_type": "markdown",
   "id": "0396d2a2",
   "metadata": {},
   "source": [
    "    "
   ]
  },
  {
   "cell_type": "markdown",
   "id": "f613cc68",
   "metadata": {},
   "source": [
    "#### 64:"
   ]
  },
  {
   "cell_type": "code",
   "execution_count": 15,
   "id": "dea754a1",
   "metadata": {},
   "outputs": [
    {
     "name": "stdout",
     "output_type": "stream",
     "text": [
      "                                                                       5.239399999368288e-05 seconds\n"
     ]
    }
   ],
   "source": [
    "from time import perf_counter\n",
    "\n",
    "start = perf_counter()\n",
    "\n",
    "\n",
    "\n",
    "print(f\"{perf_counter() - start} seconds\".rjust(100))"
   ]
  },
  {
   "cell_type": "code",
   "execution_count": null,
   "id": "94812c80",
   "metadata": {},
   "outputs": [],
   "source": []
  },
  {
   "cell_type": "code",
   "execution_count": null,
   "id": "80c7ca3a",
   "metadata": {},
   "outputs": [],
   "source": []
  },
  {
   "cell_type": "markdown",
   "id": "ecac36ad",
   "metadata": {},
   "source": [
    "    "
   ]
  },
  {
   "cell_type": "markdown",
   "id": "55f28f12",
   "metadata": {},
   "source": [
    "#### 65:"
   ]
  },
  {
   "cell_type": "code",
   "execution_count": 16,
   "id": "33c37eb2",
   "metadata": {},
   "outputs": [
    {
     "name": "stdout",
     "output_type": "stream",
     "text": [
      "                                                                      4.2680999996491664e-05 seconds\n"
     ]
    }
   ],
   "source": [
    "from time import perf_counter\n",
    "\n",
    "start = perf_counter()\n",
    "\n",
    "\n",
    "\n",
    "print(f\"{perf_counter() - start} seconds\".rjust(100))"
   ]
  },
  {
   "cell_type": "code",
   "execution_count": null,
   "id": "20c38261",
   "metadata": {},
   "outputs": [],
   "source": []
  },
  {
   "cell_type": "code",
   "execution_count": null,
   "id": "9eacffae",
   "metadata": {},
   "outputs": [],
   "source": []
  },
  {
   "cell_type": "markdown",
   "id": "87ca8eb1",
   "metadata": {},
   "source": [
    "    "
   ]
  },
  {
   "cell_type": "markdown",
   "id": "fc8dd7e2",
   "metadata": {},
   "source": [
    "#### 66:"
   ]
  },
  {
   "cell_type": "code",
   "execution_count": 17,
   "id": "bea25e11",
   "metadata": {},
   "outputs": [
    {
     "name": "stdout",
     "output_type": "stream",
     "text": [
      "                                                                       4.110000000423497e-05 seconds\n"
     ]
    }
   ],
   "source": [
    "from time import perf_counter\n",
    "\n",
    "start = perf_counter()\n",
    "\n",
    "\n",
    "\n",
    "print(f\"{perf_counter() - start} seconds\".rjust(100))"
   ]
  },
  {
   "cell_type": "code",
   "execution_count": null,
   "id": "dcccff38",
   "metadata": {},
   "outputs": [],
   "source": []
  },
  {
   "cell_type": "code",
   "execution_count": null,
   "id": "1e1692d0",
   "metadata": {},
   "outputs": [],
   "source": []
  },
  {
   "cell_type": "markdown",
   "id": "447b19d1",
   "metadata": {},
   "source": [
    "    "
   ]
  },
  {
   "cell_type": "markdown",
   "id": "812f9fd7",
   "metadata": {},
   "source": [
    "#### 67:"
   ]
  },
  {
   "cell_type": "code",
   "execution_count": 18,
   "id": "84b4c0e0",
   "metadata": {},
   "outputs": [
    {
     "name": "stdout",
     "output_type": "stream",
     "text": [
      "                                                                       4.006300000014562e-05 seconds\n"
     ]
    }
   ],
   "source": [
    "from time import perf_counter\n",
    "\n",
    "start = perf_counter()\n",
    "\n",
    "\n",
    "\n",
    "print(f\"{perf_counter() - start} seconds\".rjust(100))"
   ]
  },
  {
   "cell_type": "code",
   "execution_count": null,
   "id": "944bb6b4",
   "metadata": {},
   "outputs": [],
   "source": []
  },
  {
   "cell_type": "code",
   "execution_count": null,
   "id": "5dcaca85",
   "metadata": {},
   "outputs": [],
   "source": []
  },
  {
   "cell_type": "markdown",
   "id": "896d1d6b",
   "metadata": {},
   "source": [
    "    "
   ]
  },
  {
   "cell_type": "markdown",
   "id": "6e772796",
   "metadata": {},
   "source": [
    "#### 68:"
   ]
  },
  {
   "cell_type": "code",
   "execution_count": 19,
   "id": "b389b5c1",
   "metadata": {},
   "outputs": [
    {
     "name": "stdout",
     "output_type": "stream",
     "text": [
      "                                                                       4.014099999949394e-05 seconds\n"
     ]
    }
   ],
   "source": [
    "from time import perf_counter\n",
    "\n",
    "start = perf_counter()\n",
    "\n",
    "\n",
    "\n",
    "print(f\"{perf_counter() - start} seconds\".rjust(100))"
   ]
  },
  {
   "cell_type": "code",
   "execution_count": null,
   "id": "b00e750f",
   "metadata": {},
   "outputs": [],
   "source": []
  },
  {
   "cell_type": "code",
   "execution_count": null,
   "id": "4927b8c0",
   "metadata": {},
   "outputs": [],
   "source": []
  },
  {
   "cell_type": "markdown",
   "id": "d6f75205",
   "metadata": {},
   "source": [
    "    "
   ]
  },
  {
   "cell_type": "markdown",
   "id": "260bdaea",
   "metadata": {},
   "source": [
    "#### 69:"
   ]
  },
  {
   "cell_type": "code",
   "execution_count": 20,
   "id": "31c67791",
   "metadata": {},
   "outputs": [
    {
     "name": "stdout",
     "output_type": "stream",
     "text": [
      "                                                                       4.110000000423497e-05 seconds\n"
     ]
    }
   ],
   "source": [
    "from time import perf_counter\n",
    "\n",
    "start = perf_counter()\n",
    "\n",
    "\n",
    "\n",
    "print(f\"{perf_counter() - start} seconds\".rjust(100))"
   ]
  },
  {
   "cell_type": "code",
   "execution_count": null,
   "id": "29e21ef7",
   "metadata": {},
   "outputs": [],
   "source": []
  },
  {
   "cell_type": "code",
   "execution_count": null,
   "id": "a5c906c0",
   "metadata": {},
   "outputs": [],
   "source": []
  },
  {
   "cell_type": "markdown",
   "id": "c7165cce",
   "metadata": {},
   "source": [
    "    "
   ]
  },
  {
   "cell_type": "markdown",
   "id": "a66322dd",
   "metadata": {},
   "source": [
    "#### 70:"
   ]
  },
  {
   "cell_type": "code",
   "execution_count": 21,
   "id": "2bf11784",
   "metadata": {},
   "outputs": [
    {
     "name": "stdout",
     "output_type": "stream",
     "text": [
      "                                                                      4.2952000001150736e-05 seconds\n"
     ]
    }
   ],
   "source": [
    "from time import perf_counter\n",
    "\n",
    "start = perf_counter()\n",
    "\n",
    "\n",
    "\n",
    "print(f\"{perf_counter() - start} seconds\".rjust(100))"
   ]
  },
  {
   "cell_type": "code",
   "execution_count": null,
   "id": "619c4727",
   "metadata": {},
   "outputs": [],
   "source": []
  },
  {
   "cell_type": "code",
   "execution_count": null,
   "id": "e85493a5",
   "metadata": {},
   "outputs": [],
   "source": []
  },
  {
   "cell_type": "markdown",
   "id": "615185d8",
   "metadata": {},
   "source": [
    "    "
   ]
  },
  {
   "cell_type": "markdown",
   "id": "0a24ff5d",
   "metadata": {},
   "source": [
    "#### 71:"
   ]
  },
  {
   "cell_type": "code",
   "execution_count": 22,
   "id": "2ba953a4",
   "metadata": {},
   "outputs": [
    {
     "name": "stdout",
     "output_type": "stream",
     "text": [
      "                                                                      4.0172000012717035e-05 seconds\n"
     ]
    }
   ],
   "source": [
    "from time import perf_counter\n",
    "\n",
    "start = perf_counter()\n",
    "\n",
    "\n",
    "\n",
    "print(f\"{perf_counter() - start} seconds\".rjust(100))"
   ]
  },
  {
   "cell_type": "code",
   "execution_count": null,
   "id": "359d4786",
   "metadata": {},
   "outputs": [],
   "source": []
  },
  {
   "cell_type": "code",
   "execution_count": null,
   "id": "a59cc3f1",
   "metadata": {},
   "outputs": [],
   "source": []
  },
  {
   "cell_type": "markdown",
   "id": "1ab7c0d4",
   "metadata": {},
   "source": [
    "    "
   ]
  },
  {
   "cell_type": "markdown",
   "id": "69c35733",
   "metadata": {},
   "source": [
    "#### 72:"
   ]
  },
  {
   "cell_type": "code",
   "execution_count": 23,
   "id": "5c6352db",
   "metadata": {},
   "outputs": [
    {
     "name": "stdout",
     "output_type": "stream",
     "text": [
      "                                                                       4.157699999041142e-05 seconds\n"
     ]
    }
   ],
   "source": [
    "from time import perf_counter\n",
    "\n",
    "start = perf_counter()\n",
    "\n",
    "\n",
    "\n",
    "print(f\"{perf_counter() - start} seconds\".rjust(100))"
   ]
  },
  {
   "cell_type": "code",
   "execution_count": null,
   "id": "b1f4f06a",
   "metadata": {},
   "outputs": [],
   "source": []
  },
  {
   "cell_type": "code",
   "execution_count": null,
   "id": "4549df0c",
   "metadata": {},
   "outputs": [],
   "source": []
  },
  {
   "cell_type": "markdown",
   "id": "1484741b",
   "metadata": {},
   "source": [
    "    "
   ]
  },
  {
   "cell_type": "markdown",
   "id": "ac46e5bf",
   "metadata": {},
   "source": [
    "#### 73:"
   ]
  },
  {
   "cell_type": "code",
   "execution_count": 24,
   "id": "6e57cef3",
   "metadata": {},
   "outputs": [
    {
     "name": "stdout",
     "output_type": "stream",
     "text": [
      "                                                                       4.048300002068572e-05 seconds\n"
     ]
    }
   ],
   "source": [
    "from time import perf_counter\n",
    "\n",
    "start = perf_counter()\n",
    "\n",
    "\n",
    "\n",
    "print(f\"{perf_counter() - start} seconds\".rjust(100))"
   ]
  },
  {
   "cell_type": "code",
   "execution_count": null,
   "id": "e900c8ad",
   "metadata": {},
   "outputs": [],
   "source": []
  },
  {
   "cell_type": "code",
   "execution_count": null,
   "id": "f32b8f55",
   "metadata": {},
   "outputs": [],
   "source": []
  },
  {
   "cell_type": "markdown",
   "id": "50b115de",
   "metadata": {},
   "source": [
    "    "
   ]
  },
  {
   "cell_type": "markdown",
   "id": "87631e6f",
   "metadata": {},
   "source": [
    "#### 74:"
   ]
  },
  {
   "cell_type": "code",
   "execution_count": 25,
   "id": "9240cd3d",
   "metadata": {},
   "outputs": [
    {
     "name": "stdout",
     "output_type": "stream",
     "text": [
      "                                                                       3.983300001664247e-05 seconds\n"
     ]
    }
   ],
   "source": [
    "from time import perf_counter\n",
    "\n",
    "start = perf_counter()\n",
    "\n",
    "\n",
    "\n",
    "print(f\"{perf_counter() - start} seconds\".rjust(100))"
   ]
  },
  {
   "cell_type": "code",
   "execution_count": null,
   "id": "b3eb88b1",
   "metadata": {},
   "outputs": [],
   "source": []
  },
  {
   "cell_type": "code",
   "execution_count": null,
   "id": "4e3cd7c9",
   "metadata": {},
   "outputs": [],
   "source": []
  },
  {
   "cell_type": "markdown",
   "id": "5fad1ea8",
   "metadata": {},
   "source": [
    "    "
   ]
  },
  {
   "cell_type": "markdown",
   "id": "77183ac4",
   "metadata": {},
   "source": [
    "#### 75:"
   ]
  },
  {
   "cell_type": "code",
   "execution_count": 26,
   "id": "ab1409d5",
   "metadata": {},
   "outputs": [
    {
     "name": "stdout",
     "output_type": "stream",
     "text": [
      "                                                                      4.0752000018073886e-05 seconds\n"
     ]
    }
   ],
   "source": [
    "from time import perf_counter\n",
    "\n",
    "start = perf_counter()\n",
    "\n",
    "\n",
    "\n",
    "print(f\"{perf_counter() - start} seconds\".rjust(100))"
   ]
  },
  {
   "cell_type": "code",
   "execution_count": null,
   "id": "8f787a05",
   "metadata": {},
   "outputs": [],
   "source": []
  },
  {
   "cell_type": "code",
   "execution_count": null,
   "id": "8fc115fe",
   "metadata": {},
   "outputs": [],
   "source": []
  },
  {
   "cell_type": "markdown",
   "id": "ee3c17b0",
   "metadata": {},
   "source": [
    "    "
   ]
  },
  {
   "cell_type": "markdown",
   "id": "0e974039",
   "metadata": {},
   "source": [
    "#### 76:"
   ]
  },
  {
   "cell_type": "code",
   "execution_count": 27,
   "id": "da4118d9",
   "metadata": {},
   "outputs": [
    {
     "name": "stdout",
     "output_type": "stream",
     "text": [
      "                                                                       4.084700000817065e-05 seconds\n"
     ]
    }
   ],
   "source": [
    "from time import perf_counter\n",
    "\n",
    "start = perf_counter()\n",
    "\n",
    "\n",
    "\n",
    "print(f\"{perf_counter() - start} seconds\".rjust(100))"
   ]
  },
  {
   "cell_type": "code",
   "execution_count": null,
   "id": "96749235",
   "metadata": {},
   "outputs": [],
   "source": []
  },
  {
   "cell_type": "code",
   "execution_count": null,
   "id": "d514cd3e",
   "metadata": {},
   "outputs": [],
   "source": []
  },
  {
   "cell_type": "markdown",
   "id": "72ef7aa9",
   "metadata": {},
   "source": [
    "    "
   ]
  },
  {
   "cell_type": "markdown",
   "id": "fd87faf7",
   "metadata": {},
   "source": [
    "#### 77:"
   ]
  },
  {
   "cell_type": "code",
   "execution_count": 28,
   "id": "556b146d",
   "metadata": {},
   "outputs": [
    {
     "name": "stdout",
     "output_type": "stream",
     "text": [
      "                                                                       5.831100000364131e-05 seconds\n"
     ]
    }
   ],
   "source": [
    "from time import perf_counter\n",
    "\n",
    "start = perf_counter()\n",
    "\n",
    "\n",
    "\n",
    "print(f\"{perf_counter() - start} seconds\".rjust(100))"
   ]
  },
  {
   "cell_type": "code",
   "execution_count": null,
   "id": "1ddfc71a",
   "metadata": {},
   "outputs": [],
   "source": []
  },
  {
   "cell_type": "code",
   "execution_count": null,
   "id": "9ae155c9",
   "metadata": {},
   "outputs": [],
   "source": []
  },
  {
   "cell_type": "markdown",
   "id": "1e16f47c",
   "metadata": {},
   "source": [
    "    "
   ]
  },
  {
   "cell_type": "markdown",
   "id": "1b8e6ad9",
   "metadata": {},
   "source": [
    "#### 78:"
   ]
  },
  {
   "cell_type": "code",
   "execution_count": 29,
   "id": "31da8e16",
   "metadata": {},
   "outputs": [
    {
     "name": "stdout",
     "output_type": "stream",
     "text": [
      "                                                                       5.223400000886613e-05 seconds\n"
     ]
    }
   ],
   "source": [
    "from time import perf_counter\n",
    "\n",
    "start = perf_counter()\n",
    "\n",
    "\n",
    "\n",
    "print(f\"{perf_counter() - start} seconds\".rjust(100))"
   ]
  },
  {
   "cell_type": "code",
   "execution_count": null,
   "id": "767fe510",
   "metadata": {},
   "outputs": [],
   "source": []
  },
  {
   "cell_type": "code",
   "execution_count": null,
   "id": "0d09f776",
   "metadata": {},
   "outputs": [],
   "source": []
  },
  {
   "cell_type": "markdown",
   "id": "369b1d51",
   "metadata": {},
   "source": [
    "    "
   ]
  },
  {
   "cell_type": "markdown",
   "id": "e5522bd4",
   "metadata": {},
   "source": [
    "#### 79:"
   ]
  },
  {
   "cell_type": "code",
   "execution_count": 30,
   "id": "f602e856",
   "metadata": {},
   "outputs": [
    {
     "name": "stdout",
     "output_type": "stream",
     "text": [
      "                                                                       4.273100000773411e-05 seconds\n"
     ]
    }
   ],
   "source": [
    "from time import perf_counter\n",
    "\n",
    "start = perf_counter()\n",
    "\n",
    "\n",
    "\n",
    "print(f\"{perf_counter() - start} seconds\".rjust(100))"
   ]
  },
  {
   "cell_type": "code",
   "execution_count": null,
   "id": "10b71b9b",
   "metadata": {},
   "outputs": [],
   "source": []
  },
  {
   "cell_type": "code",
   "execution_count": null,
   "id": "1979dbe5",
   "metadata": {},
   "outputs": [],
   "source": []
  },
  {
   "cell_type": "markdown",
   "id": "d2f3fb01",
   "metadata": {
    "tags": []
   },
   "source": [
    "    "
   ]
  },
  {
   "cell_type": "markdown",
   "id": "25ef00a8",
   "metadata": {},
   "source": [
    "#### 80:"
   ]
  },
  {
   "cell_type": "code",
   "execution_count": 31,
   "id": "31a7d70a",
   "metadata": {},
   "outputs": [
    {
     "name": "stdout",
     "output_type": "stream",
     "text": [
      "                                                                       4.137799999170966e-05 seconds\n"
     ]
    }
   ],
   "source": [
    "from time import perf_counter\n",
    "\n",
    "start = perf_counter()\n",
    "\n",
    "\n",
    "\n",
    "print(f\"{perf_counter() - start} seconds\".rjust(100))"
   ]
  },
  {
   "cell_type": "code",
   "execution_count": null,
   "id": "4d8ceca0",
   "metadata": {},
   "outputs": [],
   "source": []
  },
  {
   "cell_type": "code",
   "execution_count": null,
   "id": "332b24f3",
   "metadata": {},
   "outputs": [],
   "source": []
  },
  {
   "cell_type": "markdown",
   "id": "439ee7ec",
   "metadata": {
    "tags": []
   },
   "source": [
    "    "
   ]
  },
  {
   "cell_type": "markdown",
   "id": "8faad863",
   "metadata": {},
   "source": [
    "#### 81:"
   ]
  },
  {
   "cell_type": "code",
   "execution_count": 32,
   "id": "9cc0b463",
   "metadata": {},
   "outputs": [
    {
     "name": "stdout",
     "output_type": "stream",
     "text": [
      "                                                                      4.0479000006143906e-05 seconds\n"
     ]
    }
   ],
   "source": [
    "from time import perf_counter\n",
    "\n",
    "start = perf_counter()\n",
    "\n",
    "\n",
    "\n",
    "print(f\"{perf_counter() - start} seconds\".rjust(100))"
   ]
  },
  {
   "cell_type": "code",
   "execution_count": null,
   "id": "1dc644d5",
   "metadata": {},
   "outputs": [],
   "source": []
  },
  {
   "cell_type": "code",
   "execution_count": null,
   "id": "04979596",
   "metadata": {},
   "outputs": [],
   "source": []
  },
  {
   "cell_type": "markdown",
   "id": "78353de8",
   "metadata": {
    "tags": []
   },
   "source": [
    "    "
   ]
  },
  {
   "cell_type": "markdown",
   "id": "607dfa69",
   "metadata": {},
   "source": [
    "#### 82:"
   ]
  },
  {
   "cell_type": "code",
   "execution_count": 33,
   "id": "2db68a78",
   "metadata": {},
   "outputs": [
    {
     "name": "stdout",
     "output_type": "stream",
     "text": [
      "                                                                        4.01580000186641e-05 seconds\n"
     ]
    }
   ],
   "source": [
    "from time import perf_counter\n",
    "\n",
    "start = perf_counter()\n",
    "\n",
    "\n",
    "\n",
    "print(f\"{perf_counter() - start} seconds\".rjust(100))"
   ]
  },
  {
   "cell_type": "code",
   "execution_count": null,
   "id": "b8db16bb",
   "metadata": {},
   "outputs": [],
   "source": []
  },
  {
   "cell_type": "code",
   "execution_count": null,
   "id": "d916858c",
   "metadata": {},
   "outputs": [],
   "source": []
  },
  {
   "cell_type": "markdown",
   "id": "51c92213",
   "metadata": {
    "tags": []
   },
   "source": [
    "    "
   ]
  },
  {
   "cell_type": "markdown",
   "id": "137f72a3",
   "metadata": {},
   "source": [
    "#### 83:"
   ]
  },
  {
   "cell_type": "code",
   "execution_count": 34,
   "id": "0e4cc5af",
   "metadata": {},
   "outputs": [
    {
     "name": "stdout",
     "output_type": "stream",
     "text": [
      "                                                                       4.111399999828791e-05 seconds\n"
     ]
    }
   ],
   "source": [
    "from time import perf_counter\n",
    "\n",
    "start = perf_counter()\n",
    "\n",
    "\n",
    "\n",
    "print(f\"{perf_counter() - start} seconds\".rjust(100))"
   ]
  },
  {
   "cell_type": "code",
   "execution_count": null,
   "id": "f06b28ea",
   "metadata": {},
   "outputs": [],
   "source": []
  },
  {
   "cell_type": "code",
   "execution_count": null,
   "id": "544d29af",
   "metadata": {},
   "outputs": [],
   "source": []
  },
  {
   "cell_type": "markdown",
   "id": "782d9e0a",
   "metadata": {
    "tags": []
   },
   "source": [
    "    "
   ]
  },
  {
   "cell_type": "markdown",
   "id": "8a771bf1",
   "metadata": {},
   "source": [
    "#### 84:"
   ]
  },
  {
   "cell_type": "code",
   "execution_count": 35,
   "id": "04e3e3b1",
   "metadata": {},
   "outputs": [
    {
     "name": "stdout",
     "output_type": "stream",
     "text": [
      "                                                                      4.2770999982622016e-05 seconds\n"
     ]
    }
   ],
   "source": [
    "from time import perf_counter\n",
    "\n",
    "start = perf_counter()\n",
    "\n",
    "\n",
    "\n",
    "print(f\"{perf_counter() - start} seconds\".rjust(100))"
   ]
  },
  {
   "cell_type": "code",
   "execution_count": null,
   "id": "eb0f6045",
   "metadata": {},
   "outputs": [],
   "source": []
  },
  {
   "cell_type": "code",
   "execution_count": null,
   "id": "0b6d6c9b",
   "metadata": {},
   "outputs": [],
   "source": []
  },
  {
   "cell_type": "markdown",
   "id": "2594df02",
   "metadata": {
    "tags": []
   },
   "source": [
    "    "
   ]
  },
  {
   "cell_type": "markdown",
   "id": "9c8b3ff4",
   "metadata": {},
   "source": [
    "#### 85:"
   ]
  },
  {
   "cell_type": "code",
   "execution_count": 36,
   "id": "56076b59",
   "metadata": {},
   "outputs": [
    {
     "name": "stdout",
     "output_type": "stream",
     "text": [
      "                                                                       4.070100001740684e-05 seconds\n"
     ]
    }
   ],
   "source": [
    "from time import perf_counter\n",
    "\n",
    "start = perf_counter()\n",
    "\n",
    "\n",
    "\n",
    "print(f\"{perf_counter() - start} seconds\".rjust(100))"
   ]
  },
  {
   "cell_type": "code",
   "execution_count": null,
   "id": "4d0eb538",
   "metadata": {},
   "outputs": [],
   "source": []
  },
  {
   "cell_type": "code",
   "execution_count": null,
   "id": "167738c6",
   "metadata": {},
   "outputs": [],
   "source": []
  },
  {
   "cell_type": "markdown",
   "id": "e7ceeec4",
   "metadata": {
    "tags": []
   },
   "source": [
    "    "
   ]
  },
  {
   "cell_type": "markdown",
   "id": "f9b5ff14",
   "metadata": {},
   "source": [
    "#### 86:"
   ]
  },
  {
   "cell_type": "code",
   "execution_count": 37,
   "id": "500c98ce",
   "metadata": {},
   "outputs": [
    {
     "name": "stdout",
     "output_type": "stream",
     "text": [
      "                                                                       4.011900000477908e-05 seconds\n"
     ]
    }
   ],
   "source": [
    "from time import perf_counter\n",
    "\n",
    "start = perf_counter()\n",
    "\n",
    "\n",
    "\n",
    "print(f\"{perf_counter() - start} seconds\".rjust(100))"
   ]
  },
  {
   "cell_type": "code",
   "execution_count": null,
   "id": "7a389e40",
   "metadata": {},
   "outputs": [],
   "source": []
  },
  {
   "cell_type": "code",
   "execution_count": null,
   "id": "07c1499e",
   "metadata": {},
   "outputs": [],
   "source": []
  },
  {
   "cell_type": "markdown",
   "id": "3cbc8adb",
   "metadata": {
    "tags": []
   },
   "source": [
    "    "
   ]
  },
  {
   "cell_type": "markdown",
   "id": "aade82f2",
   "metadata": {},
   "source": [
    "#### 87:"
   ]
  },
  {
   "cell_type": "code",
   "execution_count": 38,
   "id": "c634e63d",
   "metadata": {},
   "outputs": [
    {
     "name": "stdout",
     "output_type": "stream",
     "text": [
      "                                                                      4.1048999975146216e-05 seconds\n"
     ]
    }
   ],
   "source": [
    "from time import perf_counter\n",
    "\n",
    "start = perf_counter()\n",
    "\n",
    "\n",
    "\n",
    "print(f\"{perf_counter() - start} seconds\".rjust(100))"
   ]
  },
  {
   "cell_type": "code",
   "execution_count": null,
   "id": "5e47c928",
   "metadata": {},
   "outputs": [],
   "source": []
  },
  {
   "cell_type": "code",
   "execution_count": null,
   "id": "e886623a",
   "metadata": {},
   "outputs": [],
   "source": []
  },
  {
   "cell_type": "markdown",
   "id": "e773b37a",
   "metadata": {
    "tags": []
   },
   "source": [
    "    "
   ]
  },
  {
   "cell_type": "markdown",
   "id": "ba3b74e5",
   "metadata": {},
   "source": [
    "#### 88:"
   ]
  },
  {
   "cell_type": "code",
   "execution_count": 39,
   "id": "32cb5922",
   "metadata": {},
   "outputs": [
    {
     "name": "stdout",
     "output_type": "stream",
     "text": [
      "                                                                       4.231299999446492e-05 seconds\n"
     ]
    }
   ],
   "source": [
    "from time import perf_counter\n",
    "\n",
    "start = perf_counter()\n",
    "\n",
    "\n",
    "\n",
    "print(f\"{perf_counter() - start} seconds\".rjust(100))"
   ]
  },
  {
   "cell_type": "code",
   "execution_count": null,
   "id": "34af1e7e",
   "metadata": {},
   "outputs": [],
   "source": []
  },
  {
   "cell_type": "code",
   "execution_count": null,
   "id": "d4ba4633",
   "metadata": {},
   "outputs": [],
   "source": []
  },
  {
   "cell_type": "markdown",
   "id": "d1c59975",
   "metadata": {
    "tags": []
   },
   "source": [
    "    "
   ]
  },
  {
   "cell_type": "markdown",
   "id": "785605c5",
   "metadata": {},
   "source": [
    "#### 89:"
   ]
  },
  {
   "cell_type": "code",
   "execution_count": 40,
   "id": "a83af44b",
   "metadata": {},
   "outputs": [
    {
     "name": "stdout",
     "output_type": "stream",
     "text": [
      "                                                                       4.161600000429644e-05 seconds\n"
     ]
    }
   ],
   "source": [
    "from time import perf_counter\n",
    "\n",
    "start = perf_counter()\n",
    "\n",
    "\n",
    "\n",
    "print(f\"{perf_counter() - start} seconds\".rjust(100))"
   ]
  },
  {
   "cell_type": "code",
   "execution_count": null,
   "id": "4e4040ef",
   "metadata": {},
   "outputs": [],
   "source": []
  },
  {
   "cell_type": "code",
   "execution_count": null,
   "id": "0bec86dd",
   "metadata": {},
   "outputs": [],
   "source": []
  },
  {
   "cell_type": "markdown",
   "id": "b95d5f06",
   "metadata": {
    "tags": []
   },
   "source": [
    "    "
   ]
  },
  {
   "cell_type": "markdown",
   "id": "87e95b0f",
   "metadata": {
    "tags": []
   },
   "source": [
    "#### 90:"
   ]
  },
  {
   "cell_type": "code",
   "execution_count": 41,
   "id": "ba0d4ca6",
   "metadata": {},
   "outputs": [
    {
     "name": "stdout",
     "output_type": "stream",
     "text": [
      "                                                                       3.999700001600104e-05 seconds\n"
     ]
    }
   ],
   "source": [
    "from time import perf_counter\n",
    "\n",
    "start = perf_counter()\n",
    "\n",
    "\n",
    "\n",
    "print(f\"{perf_counter() - start} seconds\".rjust(100))"
   ]
  },
  {
   "cell_type": "code",
   "execution_count": null,
   "id": "a906708d",
   "metadata": {},
   "outputs": [],
   "source": []
  },
  {
   "cell_type": "code",
   "execution_count": null,
   "id": "06a0d415",
   "metadata": {},
   "outputs": [],
   "source": []
  },
  {
   "cell_type": "markdown",
   "id": "268e43a1",
   "metadata": {
    "tags": []
   },
   "source": [
    "    "
   ]
  },
  {
   "cell_type": "markdown",
   "id": "d2cf2038",
   "metadata": {
    "tags": []
   },
   "source": [
    "#### 91:"
   ]
  },
  {
   "cell_type": "code",
   "execution_count": 42,
   "id": "a659e5fc",
   "metadata": {},
   "outputs": [
    {
     "name": "stdout",
     "output_type": "stream",
     "text": [
      "                                                                      4.0696000013440425e-05 seconds\n"
     ]
    }
   ],
   "source": [
    "from time import perf_counter\n",
    "\n",
    "start = perf_counter()\n",
    "\n",
    "\n",
    "\n",
    "print(f\"{perf_counter() - start} seconds\".rjust(100))"
   ]
  },
  {
   "cell_type": "code",
   "execution_count": null,
   "id": "ccdd2447",
   "metadata": {},
   "outputs": [],
   "source": []
  },
  {
   "cell_type": "code",
   "execution_count": null,
   "id": "ed471c8a",
   "metadata": {},
   "outputs": [],
   "source": []
  },
  {
   "cell_type": "markdown",
   "id": "f6eed905",
   "metadata": {
    "tags": []
   },
   "source": [
    "    "
   ]
  },
  {
   "cell_type": "markdown",
   "id": "1b212235",
   "metadata": {
    "tags": []
   },
   "source": [
    "#### 92:"
   ]
  },
  {
   "cell_type": "code",
   "execution_count": 43,
   "id": "346bf4f3",
   "metadata": {},
   "outputs": [
    {
     "name": "stdout",
     "output_type": "stream",
     "text": [
      "                                                                       4.268399999318717e-05 seconds\n"
     ]
    }
   ],
   "source": [
    "from time import perf_counter\n",
    "\n",
    "start = perf_counter()\n",
    "\n",
    "\n",
    "\n",
    "print(f\"{perf_counter() - start} seconds\".rjust(100))"
   ]
  },
  {
   "cell_type": "code",
   "execution_count": null,
   "id": "ddfe5c61",
   "metadata": {},
   "outputs": [],
   "source": []
  },
  {
   "cell_type": "code",
   "execution_count": null,
   "id": "021cf9e9",
   "metadata": {},
   "outputs": [],
   "source": []
  },
  {
   "cell_type": "markdown",
   "id": "e71c3619",
   "metadata": {
    "tags": []
   },
   "source": [
    "    "
   ]
  },
  {
   "cell_type": "markdown",
   "id": "4a529c05",
   "metadata": {
    "tags": []
   },
   "source": [
    "#### 93:"
   ]
  },
  {
   "cell_type": "code",
   "execution_count": 44,
   "id": "8c928547",
   "metadata": {},
   "outputs": [
    {
     "name": "stdout",
     "output_type": "stream",
     "text": [
      "                                                                       4.060999998500847e-05 seconds\n"
     ]
    }
   ],
   "source": [
    "from time import perf_counter\n",
    "\n",
    "start = perf_counter()\n",
    "\n",
    "\n",
    "\n",
    "print(f\"{perf_counter() - start} seconds\".rjust(100))"
   ]
  },
  {
   "cell_type": "code",
   "execution_count": null,
   "id": "a459f6ac",
   "metadata": {},
   "outputs": [],
   "source": []
  },
  {
   "cell_type": "code",
   "execution_count": null,
   "id": "9c894612",
   "metadata": {},
   "outputs": [],
   "source": []
  },
  {
   "cell_type": "markdown",
   "id": "3c3a81bc",
   "metadata": {
    "tags": []
   },
   "source": [
    "    "
   ]
  },
  {
   "cell_type": "markdown",
   "id": "4f45181a",
   "metadata": {
    "tags": []
   },
   "source": [
    "#### 94:"
   ]
  },
  {
   "cell_type": "code",
   "execution_count": 45,
   "id": "4eff917c",
   "metadata": {},
   "outputs": [
    {
     "name": "stdout",
     "output_type": "stream",
     "text": [
      "                                                                        4.07920000213835e-05 seconds\n"
     ]
    }
   ],
   "source": [
    "from time import perf_counter\n",
    "\n",
    "start = perf_counter()\n",
    "\n",
    "\n",
    "\n",
    "print(f\"{perf_counter() - start} seconds\".rjust(100))"
   ]
  },
  {
   "cell_type": "code",
   "execution_count": null,
   "id": "df2896e8",
   "metadata": {},
   "outputs": [],
   "source": []
  },
  {
   "cell_type": "code",
   "execution_count": null,
   "id": "a5d0fe73",
   "metadata": {},
   "outputs": [],
   "source": []
  },
  {
   "cell_type": "markdown",
   "id": "e9584e01",
   "metadata": {
    "tags": []
   },
   "source": [
    "    "
   ]
  },
  {
   "cell_type": "markdown",
   "id": "71e0be5f",
   "metadata": {
    "tags": []
   },
   "source": [
    "#### 95:"
   ]
  },
  {
   "cell_type": "code",
   "execution_count": 46,
   "id": "5ae737a8",
   "metadata": {},
   "outputs": [
    {
     "name": "stdout",
     "output_type": "stream",
     "text": [
      "                                                                       4.246199998192424e-05 seconds\n"
     ]
    }
   ],
   "source": [
    "from time import perf_counter\n",
    "\n",
    "start = perf_counter()\n",
    "\n",
    "\n",
    "\n",
    "print(f\"{perf_counter() - start} seconds\".rjust(100))"
   ]
  },
  {
   "cell_type": "code",
   "execution_count": null,
   "id": "c7e6a0ef",
   "metadata": {},
   "outputs": [],
   "source": []
  },
  {
   "cell_type": "code",
   "execution_count": null,
   "id": "906b8cd6",
   "metadata": {},
   "outputs": [],
   "source": []
  },
  {
   "cell_type": "markdown",
   "id": "97ab5cdf",
   "metadata": {
    "tags": []
   },
   "source": [
    "    "
   ]
  },
  {
   "cell_type": "markdown",
   "id": "5d750776",
   "metadata": {
    "tags": []
   },
   "source": [
    "#### 96:"
   ]
  },
  {
   "cell_type": "code",
   "execution_count": 47,
   "id": "6aa14fa1",
   "metadata": {},
   "outputs": [
    {
     "name": "stdout",
     "output_type": "stream",
     "text": [
      "                                                                       4.145200000493787e-05 seconds\n"
     ]
    }
   ],
   "source": [
    "from time import perf_counter\n",
    "\n",
    "start = perf_counter()\n",
    "\n",
    "\n",
    "\n",
    "print(f\"{perf_counter() - start} seconds\".rjust(100))"
   ]
  },
  {
   "cell_type": "code",
   "execution_count": null,
   "id": "14544efd",
   "metadata": {},
   "outputs": [],
   "source": []
  },
  {
   "cell_type": "code",
   "execution_count": null,
   "id": "2c0e14ab",
   "metadata": {},
   "outputs": [],
   "source": []
  },
  {
   "cell_type": "markdown",
   "id": "0bbc7baf",
   "metadata": {
    "tags": []
   },
   "source": [
    "    "
   ]
  },
  {
   "cell_type": "markdown",
   "id": "384073d6",
   "metadata": {
    "tags": []
   },
   "source": [
    "#### 97:"
   ]
  },
  {
   "cell_type": "code",
   "execution_count": 48,
   "id": "05e254c1",
   "metadata": {
    "tags": []
   },
   "outputs": [
    {
     "name": "stdout",
     "output_type": "stream",
     "text": [
      "                                                                       4.070400001410235e-05 seconds\n"
     ]
    }
   ],
   "source": [
    "from time import perf_counter\n",
    "\n",
    "start = perf_counter()\n",
    "\n",
    "\n",
    "\n",
    "print(f\"{perf_counter() - start} seconds\".rjust(100))"
   ]
  },
  {
   "cell_type": "code",
   "execution_count": null,
   "id": "8e6af462",
   "metadata": {},
   "outputs": [],
   "source": []
  },
  {
   "cell_type": "code",
   "execution_count": null,
   "id": "595bda35",
   "metadata": {},
   "outputs": [],
   "source": []
  },
  {
   "cell_type": "markdown",
   "id": "b46eadd2",
   "metadata": {
    "tags": []
   },
   "source": [
    "    "
   ]
  },
  {
   "cell_type": "markdown",
   "id": "dfd0aaee",
   "metadata": {
    "tags": []
   },
   "source": [
    "#### 98:"
   ]
  },
  {
   "cell_type": "code",
   "execution_count": 49,
   "id": "b41083c1",
   "metadata": {},
   "outputs": [
    {
     "name": "stdout",
     "output_type": "stream",
     "text": [
      "                                                                       4.111600000555882e-05 seconds\n"
     ]
    }
   ],
   "source": [
    "from time import perf_counter\n",
    "\n",
    "start = perf_counter()\n",
    "\n",
    "\n",
    "\n",
    "print(f\"{perf_counter() - start} seconds\".rjust(100))"
   ]
  },
  {
   "cell_type": "code",
   "execution_count": null,
   "id": "688e058b",
   "metadata": {},
   "outputs": [],
   "source": []
  },
  {
   "cell_type": "code",
   "execution_count": null,
   "id": "9b2d116b",
   "metadata": {},
   "outputs": [],
   "source": []
  },
  {
   "cell_type": "markdown",
   "id": "70026ed2",
   "metadata": {
    "tags": []
   },
   "source": [
    "    "
   ]
  },
  {
   "cell_type": "markdown",
   "id": "42229157",
   "metadata": {
    "tags": []
   },
   "source": [
    "#### 99:"
   ]
  },
  {
   "cell_type": "code",
   "execution_count": 50,
   "id": "475dee21",
   "metadata": {},
   "outputs": [
    {
     "name": "stdout",
     "output_type": "stream",
     "text": [
      "                                                                       4.064500001277338e-05 seconds\n"
     ]
    }
   ],
   "source": [
    "from time import perf_counter\n",
    "\n",
    "start = perf_counter()\n",
    "\n",
    "\n",
    "\n",
    "print(f\"{perf_counter() - start} seconds\".rjust(100))"
   ]
  },
  {
   "cell_type": "code",
   "execution_count": null,
   "id": "c1163cae",
   "metadata": {},
   "outputs": [],
   "source": []
  },
  {
   "cell_type": "code",
   "execution_count": null,
   "id": "3cd9ae43",
   "metadata": {},
   "outputs": [],
   "source": []
  },
  {
   "cell_type": "markdown",
   "id": "449af2ed",
   "metadata": {
    "tags": []
   },
   "source": [
    "    "
   ]
  },
  {
   "cell_type": "markdown",
   "id": "431e46a1",
   "metadata": {
    "tags": []
   },
   "source": [
    "#### 100:"
   ]
  },
  {
   "cell_type": "code",
   "execution_count": 51,
   "id": "d94114fc",
   "metadata": {},
   "outputs": [
    {
     "name": "stdout",
     "output_type": "stream",
     "text": [
      "                                                                      4.1039000024056804e-05 seconds\n"
     ]
    }
   ],
   "source": [
    "from time import perf_counter\n",
    "\n",
    "start = perf_counter()\n",
    "\n",
    "\n",
    "\n",
    "print(f\"{perf_counter() - start} seconds\".rjust(100))"
   ]
  },
  {
   "cell_type": "code",
   "execution_count": null,
   "id": "ee3e3869",
   "metadata": {},
   "outputs": [],
   "source": []
  },
  {
   "cell_type": "code",
   "execution_count": null,
   "id": "2410663e",
   "metadata": {},
   "outputs": [],
   "source": []
  },
  {
   "cell_type": "code",
   "execution_count": null,
   "id": "66b1de7f",
   "metadata": {},
   "outputs": [],
   "source": []
  }
 ],
 "metadata": {
  "kernelspec": {
   "display_name": "Python 3 (ipykernel)",
   "language": "python",
   "name": "python3"
  },
  "language_info": {
   "codemirror_mode": {
    "name": "ipython",
    "version": 3
   },
   "file_extension": ".py",
   "mimetype": "text/x-python",
   "name": "python",
   "nbconvert_exporter": "python",
   "pygments_lexer": "ipython3",
   "version": "3.9.10+"
  }
 },
 "nbformat": 4,
 "nbformat_minor": 5
}
