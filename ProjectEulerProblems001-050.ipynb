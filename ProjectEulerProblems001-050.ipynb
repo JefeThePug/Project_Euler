{
 "cells": [
  {
   "cell_type": "markdown",
   "id": "0d38e695",
   "metadata": {},
   "source": [
    "<font size=\"20\" color=\"yellow\">**Project Euler 1-50**</font>"
   ]
  },
  {
   "cell_type": "markdown",
   "id": "e3b592d7",
   "metadata": {},
   "source": [
    "#### 1: Multiples of 3 or 5"
   ]
  },
  {
   "cell_type": "code",
   "execution_count": 1,
   "id": "1b882e63",
   "metadata": {},
   "outputs": [
    {
     "name": "stdout",
     "output_type": "stream",
     "text": [
      "233168\n",
      "                                                                       0.0005266729999999775 seconds\n"
     ]
    }
   ],
   "source": [
    "from time import perf_counter\n",
    "\n",
    "start = perf_counter()\n",
    "\n",
    "runningsum = 0\n",
    "for num in range(1,1000):\n",
    "    if num%5 == 0 or num%3 == 0:\n",
    "        runningsum += num\n",
    "        \n",
    "print(runningsum)\n",
    "\n",
    "print(f\"{perf_counter() - start} seconds\".rjust(100))"
   ]
  },
  {
   "cell_type": "markdown",
   "id": "3da40cad",
   "metadata": {},
   "source": [
    "   "
   ]
  },
  {
   "cell_type": "markdown",
   "id": "d2e91dee",
   "metadata": {},
   "source": [
    "#### 2: Even Fibonacci Numbers"
   ]
  },
  {
   "cell_type": "code",
   "execution_count": 2,
   "id": "586273b8",
   "metadata": {},
   "outputs": [
    {
     "name": "stdout",
     "output_type": "stream",
     "text": [
      "4613732\n",
      "                                                                       0.0002830979999997041 seconds\n"
     ]
    }
   ],
   "source": [
    "from time import perf_counter\n",
    "\n",
    "start = perf_counter()\n",
    "\n",
    "def genfibon(n):\n",
    "    a = 0\n",
    "    b = 1\n",
    "    for i in range(n):\n",
    "        yield a\n",
    "        a,b = b,a+b\n",
    "        \n",
    "res = sum([x for x in genfibon(34) if x % 2 == 0])\n",
    "print(res)\n",
    "\n",
    "print(f\"{perf_counter() - start} seconds\".rjust(100))"
   ]
  },
  {
   "cell_type": "markdown",
   "id": "9bea6da1",
   "metadata": {},
   "source": [
    "   "
   ]
  },
  {
   "cell_type": "markdown",
   "id": "359c05bc",
   "metadata": {},
   "source": [
    "#### 3: Largest Prime Factor"
   ]
  },
  {
   "cell_type": "code",
   "execution_count": 3,
   "id": "e3c0e1b4",
   "metadata": {},
   "outputs": [
    {
     "name": "stdout",
     "output_type": "stream",
     "text": [
      "6857\n",
      "                                                                       0.0010245600000011734 seconds\n"
     ]
    }
   ],
   "source": [
    "from time import perf_counter\n",
    "\n",
    "start = perf_counter()\n",
    "\n",
    "def getpf(n, start = 2):\n",
    "    for i in range(start, n+1):\n",
    "        if i == n:\n",
    "            return i\n",
    "        if n%i == 0:\n",
    "            return getpf(n//i, i+1)\n",
    "\n",
    "print(getpf(600851475143, 2))\n",
    "\n",
    "print(f\"{perf_counter() - start} seconds\".rjust(100))"
   ]
  },
  {
   "cell_type": "markdown",
   "id": "33d0c704",
   "metadata": {},
   "source": [
    "   "
   ]
  },
  {
   "cell_type": "markdown",
   "id": "8e63c50e",
   "metadata": {},
   "source": [
    "#### 4: Largest Palindrome Product"
   ]
  },
  {
   "cell_type": "code",
   "execution_count": 4,
   "id": "77a9cffc",
   "metadata": {},
   "outputs": [
    {
     "name": "stdout",
     "output_type": "stream",
     "text": [
      "906609\n",
      "                                                                          0.5799201959999998 seconds\n"
     ]
    }
   ],
   "source": [
    "from time import perf_counter\n",
    "\n",
    "start = perf_counter()\n",
    "\n",
    "def ispalindrome(n):\n",
    "    return str(n) == str(n)[::-1]\n",
    "\n",
    "biggest = 0\n",
    "for x in range(100, 1000):\n",
    "    for y in range(100, 1000):\n",
    "        if ispalindrome(x*y):\n",
    "            biggest = max(biggest, x*y)\n",
    "            \n",
    "print(biggest)\n",
    "\n",
    "print(f\"{perf_counter() - start} seconds\".rjust(100))"
   ]
  },
  {
   "cell_type": "markdown",
   "id": "33f53db8",
   "metadata": {},
   "source": [
    "   "
   ]
  },
  {
   "cell_type": "markdown",
   "id": "2dbcc82d",
   "metadata": {},
   "source": [
    "#### 5: Smallest Multiple"
   ]
  },
  {
   "cell_type": "markdown",
   "id": "04f00c18",
   "metadata": {},
   "source": [
    "<font color='red'>*not very efficient*</font>"
   ]
  },
  {
   "cell_type": "code",
   "execution_count": 5,
   "id": "96299f24",
   "metadata": {},
   "outputs": [
    {
     "name": "stdout",
     "output_type": "stream",
     "text": [
      "232792560\n",
      "                                                                               111.620909596 seconds\n"
     ]
    }
   ],
   "source": [
    "from numpy import prod\n",
    "from time import perf_counter\n",
    "\n",
    "start = perf_counter()\n",
    "\n",
    "max_num = 20\n",
    "n = max_num\n",
    "res = [0]\n",
    "while not prod(res):\n",
    "    n += max_num\n",
    "    res = [n%x == 0 for x in range(2,max_num + 1)]\n",
    "    \n",
    "print(n)\n",
    "\n",
    "print(f\"{perf_counter() - start} seconds\".rjust(100))"
   ]
  },
  {
   "cell_type": "markdown",
   "id": "98f0001a",
   "metadata": {},
   "source": [
    "<font color='cyan'>**improved**</font>"
   ]
  },
  {
   "cell_type": "code",
   "execution_count": 5,
   "id": "6d822799",
   "metadata": {},
   "outputs": [
    {
     "name": "stdout",
     "output_type": "stream",
     "text": [
      "232792560\n",
      "                                                                       0.0007381950000002746 seconds\n"
     ]
    }
   ],
   "source": [
    "import math\n",
    "from time import perf_counter\n",
    "\n",
    "start = perf_counter()\n",
    "\n",
    "max_num = 20\n",
    "primefactor = {2:0, 3:0, 5:0, 7:0, 11:0, 13:0, 17:0, 19:0}\n",
    "\n",
    "for i in range(2, max_num + 1):\n",
    "    temp = i\n",
    "    for prime, curval in primefactor.items():\n",
    "        times = 0\n",
    "        while temp % prime == 0:\n",
    "            times += 1\n",
    "            temp /= prime\n",
    "        primefactor[prime] = max(curval, times)\n",
    "\n",
    "result = math.prod([key**val for key, val in primefactor.items()])\n",
    "print(result)\n",
    "\n",
    "print(f\"{perf_counter() - start} seconds\".rjust(100))"
   ]
  },
  {
   "cell_type": "markdown",
   "id": "2e4ac5f8",
   "metadata": {},
   "source": [
    "   "
   ]
  },
  {
   "cell_type": "markdown",
   "id": "677e3be1",
   "metadata": {},
   "source": [
    "#### 6: Sum Square Difference"
   ]
  },
  {
   "cell_type": "code",
   "execution_count": 6,
   "id": "8f2e6e7e",
   "metadata": {},
   "outputs": [
    {
     "name": "stdout",
     "output_type": "stream",
     "text": [
      "25164150\n",
      "                                                                       0.0005611630000004197 seconds\n"
     ]
    }
   ],
   "source": [
    "from time import perf_counter\n",
    "\n",
    "start = perf_counter()\n",
    "\n",
    "def dif_sum_square(lst):\n",
    "    sum_of_square = sum([x**2 for x in lst])\n",
    "    square_of_sum = sum(lst)**2\n",
    "    return square_of_sum - sum_of_square\n",
    "\n",
    "print(dif_sum_square(list(range(1,101))))\n",
    "\n",
    "print(f\"{perf_counter() - start} seconds\".rjust(100))"
   ]
  },
  {
   "cell_type": "markdown",
   "id": "b20ca8a3",
   "metadata": {},
   "source": [
    "    "
   ]
  },
  {
   "cell_type": "markdown",
   "id": "e6019e21",
   "metadata": {},
   "source": [
    "#### 7: 10001st Prime"
   ]
  },
  {
   "cell_type": "code",
   "execution_count": 7,
   "id": "0ce2c9c9",
   "metadata": {},
   "outputs": [
    {
     "name": "stdout",
     "output_type": "stream",
     "text": [
      "104743\n",
      "                                                                         0.20651061299999895 seconds\n"
     ]
    }
   ],
   "source": [
    "import math\n",
    "from time import perf_counter\n",
    "\n",
    "start = perf_counter()\n",
    "\n",
    "def nth_prime(nth):\n",
    "    count = 2\n",
    "    num_delivered = 0\n",
    "    \n",
    "    while True:\n",
    "        isprime = True\n",
    "        for x in range(2, int(math.sqrt(count) + 1)):\n",
    "            if count % x == 0: \n",
    "                isprime = False\n",
    "                break\n",
    "        if isprime:\n",
    "            num_delivered += 1\n",
    "            if num_delivered == nth:\n",
    "                return count\n",
    "        count += 1\n",
    "        \n",
    "print(nth_prime(10001))\n",
    "\n",
    "print(f\"{perf_counter() - start} seconds\".rjust(100))"
   ]
  },
  {
   "cell_type": "markdown",
   "id": "66af3bc0",
   "metadata": {},
   "source": [
    "    "
   ]
  },
  {
   "cell_type": "markdown",
   "id": "32c890a7",
   "metadata": {},
   "source": [
    "#### 8: Largest Product in a Series"
   ]
  },
  {
   "cell_type": "code",
   "execution_count": 8,
   "id": "e1b38525",
   "metadata": {},
   "outputs": [
    {
     "name": "stdout",
     "output_type": "stream",
     "text": [
      "23514624000\n",
      "                                                                        0.018632486000001336 seconds\n"
     ]
    }
   ],
   "source": [
    "import math\n",
    "from time import perf_counter\n",
    "\n",
    "start = perf_counter()\n",
    "\n",
    "BIG_NUM = 7316717653133062491922511967442657474235534919493496983520312774506326239578318016984801869478851843858615607891129494954595017379583319528532088055111254069874715852386305071569329096329522744304355766896648950445244523161731856403098711121722383113622298934233803081353362766142828064444866452387493035890729629049156044077239071381051585930796086670172427121883998797908792274921901699720888093776657273330010533678812202354218097512545405947522435258490771167055601360483958644670632441572215539753697817977846174064955149290862569321978468622482839722413756570560574902614079729686524145351004748216637048440319989000889524345065854122758866688116427171479924442928230863465674813919123162824586178664583591245665294765456828489128831426076900422421902267105562632111110937054421750694165896040807198403850962455444362981230987879927244284909188845801561660979191338754992005240636899125607176060588611646710940507754100225698315520005593572972571636269561882670428252483600823257530420752963450\n",
    "\n",
    "def prod_of_adjacent(size):\n",
    "    biggest_prod = 1\n",
    "    for i in range(1001-size):\n",
    "        prod = math.prod(list(map(int,str(BIG_NUM)[i:i + size])))\n",
    "        biggest_prod = max(biggest_prod, prod)\n",
    "    return biggest_prod\n",
    "\n",
    "print(prod_of_adjacent(13))\n",
    "\n",
    "print(f\"{perf_counter() - start} seconds\".rjust(100))"
   ]
  },
  {
   "cell_type": "markdown",
   "id": "a296b5e0",
   "metadata": {},
   "source": [
    "    "
   ]
  },
  {
   "cell_type": "markdown",
   "id": "0621fd94",
   "metadata": {},
   "source": [
    "#### 9: Special Pythagorean Triplet"
   ]
  },
  {
   "cell_type": "code",
   "execution_count": 9,
   "id": "03eba0d1",
   "metadata": {},
   "outputs": [
    {
     "name": "stdout",
     "output_type": "stream",
     "text": [
      "31875000\n",
      "                                                                          0.2025633539999987 seconds\n"
     ]
    }
   ],
   "source": [
    "import math\n",
    "from time import perf_counter\n",
    "\n",
    "start = perf_counter()\n",
    "\n",
    "def pythag_triplet(n):\n",
    "    for a in range(1,n-1):\n",
    "        for b in range(2,n):\n",
    "            if (c := math.sqrt(a**2+b**2)) == int(c):\n",
    "                if sum([a,b,c]) == n:\n",
    "                    return a*b*int(c)\n",
    "    return\n",
    "\n",
    "print(pythag_triplet(1000))\n",
    "\n",
    "print(f\"{perf_counter() - start} seconds\".rjust(100))"
   ]
  },
  {
   "cell_type": "markdown",
   "id": "5bcb9198",
   "metadata": {},
   "source": [
    "   "
   ]
  },
  {
   "cell_type": "markdown",
   "id": "54692676",
   "metadata": {},
   "source": [
    "#### 10: Summation of Primes "
   ]
  },
  {
   "cell_type": "markdown",
   "id": "30a4a17d",
   "metadata": {},
   "source": [
    "<font color=\"magenta\">**SIEVE ALGORHYTHM!**</font>"
   ]
  },
  {
   "cell_type": "code",
   "execution_count": 10,
   "id": "89fd286b",
   "metadata": {},
   "outputs": [
    {
     "name": "stdout",
     "output_type": "stream",
     "text": [
      "142913828922\n",
      "                                                                                 1.028405393 seconds\n"
     ]
    }
   ],
   "source": [
    "import math\n",
    "from time import perf_counter\n",
    "\n",
    "start = perf_counter()\n",
    "\n",
    "def sum_primes(n):\n",
    "    primes = 2*[False] + (n-1)*[True]\n",
    "    for i in range(2, int(math.sqrt(n) + 1)):\n",
    "        for j in range(i*i, n+1, i):\n",
    "            primes[j] = False\n",
    "    return sum([prime for prime, is_true in enumerate(primes) if is_true])\n",
    "\n",
    "print(sum_primes(2000000))\n",
    "\n",
    "print(f\"{perf_counter() - start} seconds\".rjust(100))"
   ]
  },
  {
   "cell_type": "markdown",
   "id": "45813089",
   "metadata": {},
   "source": [
    "    "
   ]
  },
  {
   "cell_type": "markdown",
   "id": "8b0f758a",
   "metadata": {},
   "source": [
    "#### 11: Largest Product in a Grid"
   ]
  },
  {
   "cell_type": "code",
   "execution_count": 11,
   "id": "7773ee55",
   "metadata": {},
   "outputs": [
    {
     "name": "stdout",
     "output_type": "stream",
     "text": [
      "70600674\n",
      "                                                                        0.002913234999997627 seconds\n"
     ]
    }
   ],
   "source": [
    "import math\n",
    "from time import perf_counter\n",
    "\n",
    "start = perf_counter()\n",
    "\n",
    "g = [\"08 02 22 97 38 15 00 40 00 75 04 05 07 78 52 12 50 77 91 08\",\"49 49 99 40 17 81 18 57 60 87 17 40 98 43 69 48 04 56 62 00\",\"81 49 31 73 55 79 14 29 93 71 40 67 53 88 30 03 49 13 36 65\",\"52 70 95 23 04 60 11 42 69 24 68 56 01 32 56 71 37 02 36 91\",\"22 31 16 71 51 67 63 89 41 92 36 54 22 40 40 28 66 33 13 80\",\"24 47 32 60 99 03 45 02 44 75 33 53 78 36 84 20 35 17 12 50\",\"32 98 81 28 64 23 67 10 26 38 40 67 59 54 70 66 18 38 64 70\",\"67 26 20 68 02 62 12 20 95 63 94 39 63 08 40 91 66 49 94 21\",\"24 55 58 05 66 73 99 26 97 17 78 78 96 83 14 88 34 89 63 72\",\"21 36 23 09 75 00 76 44 20 45 35 14 00 61 33 97 34 31 33 95\",\"78 17 53 28 22 75 31 67 15 94 03 80 04 62 16 14 09 53 56 92\",\"16 39 05 42 96 35 31 47 55 58 88 24 00 17 54 24 36 29 85 57\",\"86 56 00 48 35 71 89 07 05 44 44 37 44 60 21 58 51 54 17 58\",\"19 80 81 68 05 94 47 69 28 73 92 13 86 52 17 77 04 89 55 40\",\"04 52 08 83 97 35 99 16 07 97 57 32 16 26 26 79 33 27 98 66\",\"88 36 68 87 57 62 20 72 03 46 33 67 46 55 12 32 63 93 53 69\",\"04 42 16 73 38 25 39 11 24 94 72 18 08 46 29 32 40 62 76 36\",\"20 69 36 41 72 30 23 88 34 62 99 69 82 67 59 85 74 04 36 16\",\"20 73 35 29 78 31 90 01 74 31 49 71 48 86 81 16 23 57 05 54\",\"01 70 54 71 83 51 54 69 16 92 33 48 61 43 52 01 89 19 67 48\"]\n",
    "grid = [x.split(\" \") for x in g]\n",
    "\n",
    "def return_product(arr):\n",
    "    return math.prod(map(int,arr))\n",
    "\n",
    "def traverse_grid(row_a, row_b, col_a, col_b, row_inc, col_inc, num, grid):\n",
    "    prods = []\n",
    "    for row_index in range(row_a, row_b):\n",
    "        for col_index in range(col_a, col_b):\n",
    "            arr = []\n",
    "            for i in range(num):\n",
    "                arr.append(grid[row_index + i * row_inc][col_index + i * col_inc])\n",
    "            prods.append(return_product(arr))\n",
    "    return max(prods)\n",
    "    \n",
    "def adj_products(num, grid):\n",
    "    max_prod = 1\n",
    "    l_row = len(grid)\n",
    "    l_col = len(grid[0])\n",
    "    \n",
    "    #check left/right\n",
    "    prod = traverse_grid(0,l_row,0,l_col-num-1,0,1,num,grid)\n",
    "    max_prod = max(max_prod, prod)\n",
    "            \n",
    "    #check up/down\n",
    "    prod = traverse_grid(0,l_row-num-1,0,l_col,1,0,num,grid)\n",
    "    max_prod = max(max_prod, prod)\n",
    "            \n",
    "    #check diagonal right\n",
    "    prod = traverse_grid(0,l_row-num-1,0,l_col-num-1,1,1,num,grid)\n",
    "    max_prod = max(max_prod, prod)\n",
    "    \n",
    "    #check diaglonal left\n",
    "    prod = traverse_grid(0,l_row-num-1,num-1,l_col,1,-1,num,grid)\n",
    "    max_prod = max(max_prod, prod)\n",
    "    \n",
    "    return max_prod\n",
    "\n",
    "print(adj_products(4, grid))\n",
    "\n",
    "print(f\"{perf_counter() - start} seconds\".rjust(100))"
   ]
  },
  {
   "cell_type": "markdown",
   "id": "063c2d20",
   "metadata": {},
   "source": [
    "    "
   ]
  },
  {
   "cell_type": "markdown",
   "id": "44101021",
   "metadata": {},
   "source": [
    "#### 12: Highly Divisible Triangular Number"
   ]
  },
  {
   "cell_type": "code",
   "execution_count": 12,
   "id": "9108e24f",
   "metadata": {},
   "outputs": [
    {
     "name": "stdout",
     "output_type": "stream",
     "text": [
      "76576500\n",
      "                                                                           3.777360680000001 seconds\n"
     ]
    }
   ],
   "source": [
    "import math\n",
    "from time import perf_counter\n",
    "\n",
    "start = perf_counter()\n",
    "\n",
    "def num_divisors(n):\n",
    "    num = 0\n",
    "    for i in range(1, 1+int(math.sqrt(n))):\n",
    "        if (n % i == 0):\n",
    "            num += 1\n",
    "            if i * i != n:\n",
    "                num += 1\n",
    "    return num\n",
    "\n",
    "def get_tri_num(n):\n",
    "    s = 0\n",
    "    for i in range(1, n):\n",
    "        s += i\n",
    "        yield s\n",
    "        \n",
    "def high_divis_tri(divisibles):\n",
    "    for i, num in enumerate(get_tri_num(50000)):\n",
    "        if num_divisors(num) > divisibles:\n",
    "            return num\n",
    "\n",
    "print(high_divis_tri(500))\n",
    "\n",
    "print(f\"{perf_counter() - start} seconds\".rjust(100))"
   ]
  },
  {
   "cell_type": "markdown",
   "id": "b63916b6",
   "metadata": {},
   "source": [
    "    "
   ]
  },
  {
   "cell_type": "markdown",
   "id": "9116031b",
   "metadata": {},
   "source": [
    "#### 13: Large Sum"
   ]
  },
  {
   "cell_type": "code",
   "execution_count": 13,
   "id": "f475d475",
   "metadata": {},
   "outputs": [
    {
     "name": "stdout",
     "output_type": "stream",
     "text": [
      "5537376230\n",
      "                                                                      0.00034445000000005166 seconds\n"
     ]
    }
   ],
   "source": [
    "from time import perf_counter\n",
    "\n",
    "start = perf_counter()\n",
    "\n",
    "big_list = [37107287533902102798797998220837590246510135740250,46376937677490009712648124896970078050417018260538,74324986199524741059474233309513058123726617309629,91942213363574161572522430563301811072406154908250,23067588207539346171171980310421047513778063246676,89261670696623633820136378418383684178734361726757,28112879812849979408065481931592621691275889832738,44274228917432520321923589422876796487670272189318,47451445736001306439091167216856844588711603153276,70386486105843025439939619828917593665686757934951,62176457141856560629502157223196586755079324193331,64906352462741904929101432445813822663347944758178,92575867718337217661963751590579239728245598838407,58203565325359399008402633568948830189458628227828,80181199384826282014278194139940567587151170094390,35398664372827112653829987240784473053190104293586,86515506006295864861532075273371959191420517255829,71693888707715466499115593487603532921714970056938,54370070576826684624621495650076471787294438377604,53282654108756828443191190634694037855217779295145,36123272525000296071075082563815656710885258350721,45876576172410976447339110607218265236877223636045,17423706905851860660448207621209813287860733969412,81142660418086830619328460811191061556940512689692,51934325451728388641918047049293215058642563049483,62467221648435076201727918039944693004732956340691,15732444386908125794514089057706229429197107928209,55037687525678773091862540744969844508330393682126,18336384825330154686196124348767681297534375946515,80386287592878490201521685554828717201219257766954,78182833757993103614740356856449095527097864797581,16726320100436897842553539920931837441497806860984,48403098129077791799088218795327364475675590848030,87086987551392711854517078544161852424320693150332,59959406895756536782107074926966537676326235447210,69793950679652694742597709739166693763042633987085,41052684708299085211399427365734116182760315001271,65378607361501080857009149939512557028198746004375,35829035317434717326932123578154982629742552737307,94953759765105305946966067683156574377167401875275,88902802571733229619176668713819931811048770190271,25267680276078003013678680992525463401061632866526,36270218540497705585629946580636237993140746255962,24074486908231174977792365466257246923322810917141,91430288197103288597806669760892938638285025333403,34413065578016127815921815005561868836468420090470,23053081172816430487623791969842487255036638784583,11487696932154902810424020138335124462181441773470,63783299490636259666498587618221225225512486764533,67720186971698544312419572409913959008952310058822,95548255300263520781532296796249481641953868218774,76085327132285723110424803456124867697064507995236,37774242535411291684276865538926205024910326572967,23701913275725675285653248258265463092207058596522,29798860272258331913126375147341994889534765745501,18495701454879288984856827726077713721403798879715,38298203783031473527721580348144513491373226651381,34829543829199918180278916522431027392251122869539,40957953066405232632538044100059654939159879593635,29746152185502371307642255121183693803580388584903,41698116222072977186158236678424689157993532961922,62467957194401269043877107275048102390895523597457,23189706772547915061505504953922979530901129967519,86188088225875314529584099251203829009407770775672,11306739708304724483816533873502340845647058077308,82959174767140363198008187129011875491310547126581,97623331044818386269515456334926366572897563400500,42846280183517070527831839425882145521227251250327,55121603546981200581762165212827652751691296897789,32238195734329339946437501907836945765883352399886,75506164965184775180738168837861091527357929701337,62177842752192623401942399639168044983993173312731,32924185707147349566916674687634660915035914677504,99518671430235219628894890102423325116913619626622,73267460800591547471830798392868535206946944540724,76841822524674417161514036427982273348055556214818,97142617910342598647204516893989422179826088076852,87783646182799346313767754307809363333018982642090,10848802521674670883215120185883543223812876952786,71329612474782464538636993009049310363619763878039,62184073572399794223406235393808339651327408011116,66627891981488087797941876876144230030984490851411,60661826293682836764744779239180335110989069790714,85786944089552990653640447425576083659976645795096,66024396409905389607120198219976047599490197230297,64913982680032973156037120041377903785566085089252,16730939319872750275468906903707539413042652315011,94809377245048795150954100921645863754710598436791,78639167021187492431995700641917969777599028300699,15368713711936614952811305876380278410754449733078,40789923115535562561142322423255033685442488917353,44889911501440648020369068063960672322193204149535,41503128880339536053299340368006977710650566631954,81234880673210146739058568557934581403627822703280,82616570773948327592232845941706525094512325230608,22918802058777319719839450180888072429661980811197,77158542502016545090413245809786882778948721859617,72107838435069186155435662884062257473692284509516,20849603980134001723930671666823555245252804609722,53503534226472524250874054075591789781264330331690,]\n",
    "print(f\"{sum(big_list)}\"[:10])\n",
    "\n",
    "print(f\"{perf_counter() - start} seconds\".rjust(100))"
   ]
  },
  {
   "cell_type": "markdown",
   "id": "67b56107",
   "metadata": {},
   "source": [
    "    "
   ]
  },
  {
   "cell_type": "markdown",
   "id": "ef794050",
   "metadata": {},
   "source": [
    "#### 14: Longest Collatz Sequence"
   ]
  },
  {
   "cell_type": "code",
   "execution_count": 14,
   "id": "624aa622",
   "metadata": {},
   "outputs": [
    {
     "name": "stdout",
     "output_type": "stream",
     "text": [
      "837799\n",
      "                                                                          2.2085190359999984 seconds\n"
     ]
    }
   ],
   "source": [
    "from time import perf_counter\n",
    "\n",
    "start = perf_counter()\n",
    "\n",
    "def collatz(num, cd):\n",
    "    count = 0\n",
    "    while num > 1:\n",
    "        if num in cd.keys():\n",
    "            return count + cd[num]\n",
    "        \n",
    "        count += 1\n",
    "        if num % 2 == 0:\n",
    "            num//= 2\n",
    "        else:\n",
    "            num*=3\n",
    "            num+=1\n",
    "    return count + 1\n",
    "        \n",
    "collatz_dic = {}\n",
    "for i in range(3,1000001):\n",
    "    collatz_dic[i] = collatz(i, collatz_dic)\n",
    "print(max(collatz_dic, key=collatz_dic.get))\n",
    "\n",
    "print(f\"{perf_counter() - start} seconds\".rjust(100))"
   ]
  },
  {
   "cell_type": "markdown",
   "id": "e6cda475",
   "metadata": {},
   "source": [
    "    "
   ]
  },
  {
   "cell_type": "markdown",
   "id": "041b877f",
   "metadata": {},
   "source": [
    "#### 15: Lattice Paths"
   ]
  },
  {
   "cell_type": "code",
   "execution_count": 15,
   "id": "cc0a1dbd",
   "metadata": {},
   "outputs": [
    {
     "name": "stdout",
     "output_type": "stream",
     "text": [
      "137846528820\n",
      "                                                                      0.00023587999999818976 seconds\n"
     ]
    }
   ],
   "source": [
    "import math\n",
    "from time import perf_counter\n",
    "\n",
    "start = perf_counter()\n",
    "\n",
    "#c(n, k) = n! / (k!(n-k)!)\n",
    "def lattice_paths(size):\n",
    "    n = 2*size\n",
    "    k = n//2\n",
    "    return math.factorial(n) // (math.factorial(k) * math.factorial(n-k))\n",
    "\n",
    "print(lattice_paths(20))\n",
    "\n",
    "print(f\"{perf_counter() - start} seconds\".rjust(100))"
   ]
  },
  {
   "cell_type": "markdown",
   "id": "645a1668",
   "metadata": {},
   "source": [
    "    "
   ]
  },
  {
   "cell_type": "markdown",
   "id": "51c96f1d",
   "metadata": {},
   "source": [
    "#### 16: Power Digit Sum"
   ]
  },
  {
   "cell_type": "code",
   "execution_count": 16,
   "id": "8c395910",
   "metadata": {},
   "outputs": [
    {
     "name": "stdout",
     "output_type": "stream",
     "text": [
      "1366\n",
      "                                                                      0.00029788100000160966 seconds\n"
     ]
    }
   ],
   "source": [
    "from time import perf_counter\n",
    "\n",
    "start = perf_counter()\n",
    "\n",
    "def power_sum(base, exponent):\n",
    "    arr = list(str(base**exponent))\n",
    "    return sum(map(int,arr))\n",
    "\n",
    "print(power_sum(2,1000))\n",
    "\n",
    "print(f\"{perf_counter() - start} seconds\".rjust(100))"
   ]
  },
  {
   "cell_type": "markdown",
   "id": "b3e23dcb",
   "metadata": {},
   "source": [
    "    "
   ]
  },
  {
   "cell_type": "markdown",
   "id": "c721a49d",
   "metadata": {},
   "source": [
    "#### 17: Number Letter Counts"
   ]
  },
  {
   "cell_type": "code",
   "execution_count": 17,
   "id": "1b078dcd",
   "metadata": {},
   "outputs": [
    {
     "name": "stdout",
     "output_type": "stream",
     "text": [
      "21124\n",
      "                                                                       0.0020439740000028905 seconds\n"
     ]
    }
   ],
   "source": [
    "from time import perf_counter\n",
    "\n",
    "start = perf_counter()\n",
    "\n",
    "words = \"zero one two three four five six seven eight nine\" + \\\n",
    "\" ten eleven twelve thirteen fourteen fifteen sixteen seventeen eighteen nineteen twenty\" + \\\n",
    "\" thirty forty fifty sixty seventy eighty ninety\"\n",
    "words = words.split(\" \")\n",
    "\n",
    "def number2words(n):\n",
    "    if n < 20:\n",
    "        return words[n]\n",
    "    elif n < 100:\n",
    "        return words[18 + n // 10] + ('' if n % 10 == 0 else ' ' + words[n % 10])\n",
    "    elif n < 1000:\n",
    "        return number2words(n // 100) + \" hundred\" + (' and ' + number2words(n % 100) if n % 100 > 0 else '')\n",
    "    else:\n",
    "        return \"one thousand\"\n",
    "\n",
    "def len_word(w):\n",
    "    return len(w.replace(\" \",\"\"))\n",
    "\n",
    "end = 1000\n",
    "number_lengths = [len_word(number2words(i)) for i in range(1,end+1)]\n",
    "print(sum(number_lengths))\n",
    "\n",
    "print(f\"{perf_counter() - start} seconds\".rjust(100))"
   ]
  },
  {
   "cell_type": "markdown",
   "id": "967f2719",
   "metadata": {},
   "source": [
    "    "
   ]
  },
  {
   "cell_type": "markdown",
   "id": "e87254ea",
   "metadata": {},
   "source": [
    "#### 18: Maximum Path Sum I"
   ]
  },
  {
   "cell_type": "code",
   "execution_count": 18,
   "id": "3f56bcb0",
   "metadata": {},
   "outputs": [
    {
     "name": "stdout",
     "output_type": "stream",
     "text": [
      "1074\n",
      "                                                                       0.0005425900000020079 seconds\n"
     ]
    }
   ],
   "source": [
    "from time import perf_counter\n",
    "\n",
    "start = perf_counter()\n",
    "\n",
    "def maximum_path(triangle):\n",
    "    for row in range(len(triangle) - 1, 0, -1):\n",
    "        for col in range(len(triangle[row]) - 1):\n",
    "            maximum = max(triangle[row][col], triangle[row][col + 1])\n",
    "            triangle[row - 1][col] += maximum\n",
    "    return triangle[0][0]\n",
    "\n",
    "triangle = [[75],[95, 64],[17, 47, 82],[18, 35, 87, 10],[20, 4, 82, 47, 65],[19, 1, 23, 75, 3, 34],[88, 2, 77, 73, 7, 63, 67],[99, 65, 4, 28, 6, 16, 70, 92],[41, 41, 26, 56, 83, 40, 80, 70, 33],[41, 48, 72, 33, 47, 32, 37, 16, 94, 29],[53, 71, 44, 65, 25, 43, 91, 52, 97, 51, 14],[70, 11, 33, 28, 77, 73, 17, 78, 39, 68, 17, 57],[91, 71, 52, 38, 17, 14, 91, 43, 58, 50, 27, 29, 48],[63, 66, 4, 68, 89, 53, 67, 30, 73, 16, 69, 87, 40, 31],[4, 62, 98, 27, 23, 9, 70, 98, 73, 93, 38, 53, 60, 4, 23]]\n",
    "print(maximum_path(triangle))\n",
    "\n",
    "print(f\"{perf_counter() - start} seconds\".rjust(100))"
   ]
  },
  {
   "cell_type": "markdown",
   "id": "1e18e50e",
   "metadata": {},
   "source": [
    "    "
   ]
  },
  {
   "cell_type": "markdown",
   "id": "45ec109a",
   "metadata": {},
   "source": [
    "#### 19: Counting Sundays"
   ]
  },
  {
   "cell_type": "code",
   "execution_count": 19,
   "id": "f1aa6a8f",
   "metadata": {},
   "outputs": [
    {
     "name": "stdout",
     "output_type": "stream",
     "text": [
      "171\n",
      "                                                                       0.0012174149999992778 seconds\n"
     ]
    }
   ],
   "source": [
    "import calendar as cal\n",
    "from time import perf_counter\n",
    "\n",
    "start = perf_counter()\n",
    "\n",
    "def firsts_of_year(y):\n",
    "    return sum([1 for m in range(1,13) if cal.weekday(y,m,1)==6])\n",
    "\n",
    "def firsts_of_century(c):\n",
    "    start = c*100 + 1\n",
    "    end = start + 100\n",
    "    return sum([firsts_of_year(y) for y in range(start,end)])\n",
    "\n",
    "print(firsts_of_century(19))\n",
    "\n",
    "print(f\"{perf_counter() - start} seconds\".rjust(100))"
   ]
  },
  {
   "cell_type": "markdown",
   "id": "79d31ea1",
   "metadata": {},
   "source": [
    "    "
   ]
  },
  {
   "cell_type": "markdown",
   "id": "b52f29bd",
   "metadata": {},
   "source": [
    "#### 20: Factoral Digit Sum"
   ]
  },
  {
   "cell_type": "code",
   "execution_count": 20,
   "id": "44fbfdf2",
   "metadata": {},
   "outputs": [
    {
     "name": "stdout",
     "output_type": "stream",
     "text": [
      "648\n",
      "                                                                      0.00024936699999500433 seconds\n"
     ]
    }
   ],
   "source": [
    "import math\n",
    "from time import perf_counter\n",
    "\n",
    "start = perf_counter()\n",
    "\n",
    "def list_of_factoral(num):\n",
    "    f = math.factorial(num)\n",
    "    return map(int,list(str(f)))\n",
    "\n",
    "print(sum(list_of_factoral(100)))\n",
    "\n",
    "print(f\"{perf_counter() - start} seconds\".rjust(100))"
   ]
  },
  {
   "cell_type": "markdown",
   "id": "c8159035",
   "metadata": {},
   "source": [
    "    "
   ]
  },
  {
   "cell_type": "markdown",
   "id": "5d3491bf",
   "metadata": {},
   "source": [
    "#### 21: Amicable Numbers"
   ]
  },
  {
   "cell_type": "code",
   "execution_count": 21,
   "id": "47f027b0",
   "metadata": {},
   "outputs": [
    {
     "name": "stdout",
     "output_type": "stream",
     "text": [
      "31626\n",
      "                                                                         0.09587800599999952 seconds\n"
     ]
    }
   ],
   "source": [
    "import math\n",
    "from time import perf_counter\n",
    "\n",
    "start = perf_counter()\n",
    "        \n",
    "def sum_of_divisors(n):\n",
    "    divisors = []\n",
    "    for i in range(1, 1+int(math.sqrt(n))):\n",
    "        if n % i == 0:\n",
    "            divisors.append(i)\n",
    "            if i * i != n:\n",
    "                divisors.append(n//i)\n",
    "    if n in divisors:\n",
    "        divisors.remove(n)\n",
    "    return sum(divisors)\n",
    "\n",
    "def is_amicable(num):\n",
    "    new_num = sum_of_divisors(num)\n",
    "    if new_num == num: return False\n",
    "    return sum_of_divisors(new_num) == num\n",
    "\n",
    "amicable_nums = [n*is_amicable(n) for n in range(1,10000)]\n",
    "print(sum(amicable_nums))\n",
    "\n",
    "print(f\"{perf_counter() - start} seconds\".rjust(100))"
   ]
  },
  {
   "cell_type": "markdown",
   "id": "2c214d82",
   "metadata": {},
   "source": [
    "    "
   ]
  },
  {
   "cell_type": "markdown",
   "id": "26c82ed5",
   "metadata": {},
   "source": [
    "#### 22: Names Scores"
   ]
  },
  {
   "cell_type": "code",
   "execution_count": 22,
   "id": "6408c72a",
   "metadata": {},
   "outputs": [
    {
     "name": "stdout",
     "output_type": "stream",
     "text": [
      "871198282\n",
      "                                                                        0.014786098999998387 seconds\n"
     ]
    }
   ],
   "source": [
    "from string import ascii_uppercase as uc\n",
    "from time import perf_counter\n",
    "\n",
    "start = perf_counter()\n",
    "\n",
    "def open_file(path):        \n",
    "    with open(path, \"r\") as f:\n",
    "        return f.read().replace('\"',\"\").split(\",\")\n",
    "\n",
    "def score_name(name):\n",
    "    return sum([uc.index(l) + 1 for l in name])\n",
    "    \n",
    "names = sorted(open_file(\"names.txt\"))\n",
    "name_vals = [score_name(name) * (1 + index) for index, name in enumerate(names)]\n",
    "print(sum(name_vals))\n",
    "\n",
    "print(f\"{perf_counter() - start} seconds\".rjust(100))"
   ]
  },
  {
   "cell_type": "markdown",
   "id": "458a9536",
   "metadata": {},
   "source": [
    "    "
   ]
  },
  {
   "cell_type": "markdown",
   "id": "e3914b89",
   "metadata": {},
   "source": [
    "#### 23: Non-Abundant Sums"
   ]
  },
  {
   "cell_type": "code",
   "execution_count": 23,
   "id": "b7b3613e",
   "metadata": {},
   "outputs": [
    {
     "name": "stdout",
     "output_type": "stream",
     "text": [
      "4179871\n",
      "                                                                          1.6243076169999995 seconds\n"
     ]
    }
   ],
   "source": [
    "from time import perf_counter\n",
    "import math\n",
    "\n",
    "start = perf_counter()\n",
    "\n",
    "def sum_divisors(n):\n",
    "    divisors = set([1])\n",
    "    for i in range(2, int(math.sqrt(n))+1):\n",
    "        if n % i == 0:\n",
    "            divisors.add(i)\n",
    "            divisors.add(n/i)\n",
    "    return sum(divisors)\n",
    "\n",
    "def sum_under_generator(arr, under):\n",
    "    for a in arr:\n",
    "        for b in arr:\n",
    "            if (s := a + b) > under:\n",
    "                break\n",
    "            yield s\n",
    "            \n",
    "limit = 20161\n",
    "\n",
    "ab_nums = set([num for num in range(12,limit) if sum_divisors(num) > num])  \n",
    "ab_sums = set(sum_under_generator(ab_nums, limit))\n",
    "non_ab_sums = set(range(limit + 1)) - ab_sums\n",
    "\n",
    "print(sum(non_ab_sums))\n",
    "\n",
    "print(f\"{perf_counter() - start} seconds\".rjust(100))"
   ]
  },
  {
   "cell_type": "markdown",
   "id": "cebc7e42",
   "metadata": {},
   "source": [
    "    "
   ]
  },
  {
   "cell_type": "markdown",
   "id": "b4983cf7",
   "metadata": {},
   "source": [
    "#### 24: Lexicographic Permutations"
   ]
  },
  {
   "cell_type": "code",
   "execution_count": 24,
   "id": "8643c133",
   "metadata": {},
   "outputs": [
    {
     "name": "stdout",
     "output_type": "stream",
     "text": [
      "2783915460\n",
      "                                                                          0.7285390210000031 seconds\n"
     ]
    }
   ],
   "source": [
    "from time import perf_counter\n",
    "from itertools import permutations\n",
    "\n",
    "start = perf_counter()\n",
    "\n",
    "perms = list(permutations(\"0123456789\"))\n",
    "print(\"\".join(perms[999999]))\n",
    "\n",
    "print(f\"{perf_counter() - start} seconds\".rjust(100))"
   ]
  },
  {
   "cell_type": "markdown",
   "id": "80830c09",
   "metadata": {},
   "source": [
    "    "
   ]
  },
  {
   "cell_type": "markdown",
   "id": "a1d3931f",
   "metadata": {},
   "source": [
    "#### 25: 1000-Digit Fibonacci Number"
   ]
  },
  {
   "cell_type": "code",
   "execution_count": 25,
   "id": "ce9f0b07",
   "metadata": {},
   "outputs": [
    {
     "name": "stdout",
     "output_type": "stream",
     "text": [
      "4782\n",
      "                                                                        0.028561140999997292 seconds\n"
     ]
    }
   ],
   "source": [
    "from time import perf_counter\n",
    "\n",
    "start = perf_counter()\n",
    "\n",
    "def get_fib_index(n):\n",
    "    a, b, i = 1, 1, 1\n",
    "    while len(f\"{a}\") < n:\n",
    "        i += 1\n",
    "        a, b = b, a+b\n",
    "    return i\n",
    "        \n",
    "print(get_fib_index(1000))\n",
    "\n",
    "print(f\"{perf_counter() - start} seconds\".rjust(100))"
   ]
  },
  {
   "cell_type": "markdown",
   "id": "1d74c14d",
   "metadata": {},
   "source": [
    "    "
   ]
  },
  {
   "cell_type": "markdown",
   "id": "cbb74726",
   "metadata": {},
   "source": [
    "#### 26: Reciprocal Cycles"
   ]
  },
  {
   "cell_type": "code",
   "execution_count": 26,
   "id": "96937580",
   "metadata": {},
   "outputs": [
    {
     "name": "stdout",
     "output_type": "stream",
     "text": [
      "983\n",
      "                                                                         0.16795460199999468 seconds\n"
     ]
    }
   ],
   "source": [
    "import math\n",
    "from time import perf_counter\n",
    "\n",
    "start = perf_counter()\n",
    "\n",
    "def get_primes(n):\n",
    "    primes = 2*[False] + (n-1)*[True]\n",
    "    for i in range(2, int(math.sqrt(n) + 1)):\n",
    "        for j in range(i*i, n+1, i):\n",
    "            primes[j] = False\n",
    "    return [prime for prime, is_true in enumerate(primes) if is_true]\n",
    "\n",
    "def get_dividend(divisor):\n",
    "    return [1,10,100,1000][len(f\"{divisor}\")]\n",
    "\n",
    "def recip_cycle_len(divisor):\n",
    "    dividend = get_dividend(divisor)\n",
    "    remainders = [dividend]\n",
    "    quotients = []\n",
    "    repeated = False\n",
    "    \n",
    "    while not repeated:\n",
    "        quotient, remainder = divmod(dividend, divisor)\n",
    "        if remainder == 0: \n",
    "            return None\n",
    "        dividend = remainder * 10\n",
    "        in_list = dividend in remainders\n",
    "        remainders.append(dividend)\n",
    "        quotients.append(quotient)\n",
    "        if in_list:\n",
    "            start = remainders.index(dividend)\n",
    "            return len(quotients[start:])\n",
    "        if len(remainders) > 1000:\n",
    "            print(\"went on for too long\")\n",
    "            return None\n",
    "        \n",
    "divisors = get_primes(1000)\n",
    "cycles = {}\n",
    "for divisor in divisors:\n",
    "    cycles[divisor] = recip_cycle_len(divisor) or 0\n",
    "max_cycle = max(cycles, key=cycles.get)\n",
    "print(max_cycle)\n",
    "\n",
    "print(f\"{perf_counter() - start} seconds\".rjust(100))"
   ]
  },
  {
   "cell_type": "markdown",
   "id": "5f7f5ed5",
   "metadata": {},
   "source": [
    "    "
   ]
  },
  {
   "cell_type": "markdown",
   "id": "2f812d5d",
   "metadata": {},
   "source": [
    "#### 27: Quadratic Primes"
   ]
  },
  {
   "cell_type": "code",
   "execution_count": 27,
   "id": "e6c000a6",
   "metadata": {},
   "outputs": [
    {
     "name": "stdout",
     "output_type": "stream",
     "text": [
      "-59231\n",
      "                                                                          0.4453308409999863 seconds\n"
     ]
    }
   ],
   "source": [
    "import math\n",
    "from time import perf_counter\n",
    "\n",
    "start = perf_counter()\n",
    "\n",
    "def get_primes(n):\n",
    "    primes = 2*[False] + (n-1)*[True]\n",
    "    for i in range(2, int(math.sqrt(n) + 1)):\n",
    "        for j in range(i*i, n+1, i):\n",
    "            primes[j] = False\n",
    "    return [prime for prime, is_true in enumerate(primes) if is_true]\n",
    "\n",
    "def is_prime(n):\n",
    "    for i in range(2,int(abs(n)**0.5)+1):\n",
    "        if n%i == 0:\n",
    "            return False\n",
    "    return True\n",
    "\n",
    "def quad_primes(a,b, primes):\n",
    "    i = 0\n",
    "    while True:\n",
    "        q = i**2 + a*i + b\n",
    "        if q not in primes:\n",
    "            if not is_prime(q):\n",
    "                break\n",
    "        i += 1\n",
    "    return i\n",
    "\n",
    "max_primes = {}\n",
    "primes = get_primes(1000)\n",
    "for a in primes:\n",
    "    for b in primes:\n",
    "        max_primes[(a,b)] = quad_primes(a,b, primes)\n",
    "        max_primes[(-a,b)] = quad_primes(-a,b, primes)\n",
    "a, b = max(max_primes, key=max_primes.get)\n",
    "print(a*b)\n",
    "\n",
    "print(f\"{perf_counter() - start} seconds\".rjust(100))"
   ]
  },
  {
   "cell_type": "markdown",
   "id": "6f29c640",
   "metadata": {},
   "source": [
    "    "
   ]
  },
  {
   "cell_type": "markdown",
   "id": "812d4326",
   "metadata": {},
   "source": [
    "#### 28: Number Spiral Diagonals"
   ]
  },
  {
   "cell_type": "code",
   "execution_count": 28,
   "id": "e01b9ae2",
   "metadata": {},
   "outputs": [
    {
     "name": "stdout",
     "output_type": "stream",
     "text": [
      "669171001\n",
      "                                                                       0.0015086020000012468 seconds\n"
     ]
    }
   ],
   "source": [
    "from time import perf_counter\n",
    "\n",
    "start = perf_counter()\n",
    "\n",
    "size = 1001\n",
    "\n",
    "nums = set([1])\n",
    "num = 1\n",
    "for ring in range(size//2 + 1):\n",
    "    num += ring * 8\n",
    "    nums.add(num)\n",
    "    mult = 2 * ring\n",
    "    for corner in range(0,4):\n",
    "        if num ==1 and corner != 0: break\n",
    "        diff = corner * mult\n",
    "        nums.add(num - diff)\n",
    "print(sum(nums))\n",
    "\n",
    "print(f\"{perf_counter() - start} seconds\".rjust(100))"
   ]
  },
  {
   "cell_type": "markdown",
   "id": "7b053eaf",
   "metadata": {},
   "source": [
    "    "
   ]
  },
  {
   "cell_type": "markdown",
   "id": "b5dddefb",
   "metadata": {},
   "source": [
    "#### 29: Distinct Powers"
   ]
  },
  {
   "cell_type": "code",
   "execution_count": 29,
   "id": "347ca4b9",
   "metadata": {},
   "outputs": [
    {
     "name": "stdout",
     "output_type": "stream",
     "text": [
      "9183\n",
      "                                                                        0.009044000000002939 seconds\n"
     ]
    }
   ],
   "source": [
    "from time import perf_counter\n",
    "\n",
    "start = perf_counter()\n",
    "\n",
    "distinct = set()\n",
    "for a in range(2, 101):\n",
    "    for b in range(2, 101):\n",
    "        distinct.add(a**b)\n",
    "print(len(distinct))\n",
    "\n",
    "print(f\"{perf_counter() - start} seconds\".rjust(100))"
   ]
  },
  {
   "cell_type": "markdown",
   "id": "a612a674",
   "metadata": {
    "tags": []
   },
   "source": [
    "    "
   ]
  },
  {
   "cell_type": "markdown",
   "id": "9ecff199",
   "metadata": {},
   "source": [
    "#### 30: Digit Fifth Powers"
   ]
  },
  {
   "cell_type": "code",
   "execution_count": 30,
   "id": "b7e1ea4f",
   "metadata": {},
   "outputs": [
    {
     "name": "stdout",
     "output_type": "stream",
     "text": [
      "443839\n",
      "                                                                          0.5709506120000043 seconds\n"
     ]
    }
   ],
   "source": [
    "from time import perf_counter\n",
    "\n",
    "start = perf_counter()\n",
    "\n",
    "def get_fifth(n):\n",
    "    return sum([int(x)**5 for x in f\"{n}\"])\n",
    "\n",
    "digit_fifth = [n for n in range(100, 200000) if get_fifth(n) == n]\n",
    "print(sum(digit_fifth))\n",
    "\n",
    "print(f\"{perf_counter() - start} seconds\".rjust(100))"
   ]
  },
  {
   "cell_type": "markdown",
   "id": "c67c78d3",
   "metadata": {
    "tags": []
   },
   "source": [
    "    "
   ]
  },
  {
   "cell_type": "markdown",
   "id": "8172a9b0",
   "metadata": {},
   "source": [
    "#### 31: Coin Sums"
   ]
  },
  {
   "cell_type": "code",
   "execution_count": 31,
   "id": "c1a3181f",
   "metadata": {},
   "outputs": [
    {
     "name": "stdout",
     "output_type": "stream",
     "text": [
      "73682\n",
      "                                                                        0.015784487000004788 seconds\n"
     ]
    }
   ],
   "source": [
    "from time import perf_counter\n",
    "\n",
    "start = perf_counter()\n",
    "\n",
    "counter = 0\n",
    "\n",
    "def range_num(*args):\n",
    "    a,b,c,d,e = args\n",
    "    return 1+(200-100*a-50*b-20*c-10*d-5*e)//2\n",
    "\n",
    "for a in range(3):\n",
    "    for b in range(range_num(a,0,0,0,0)):\n",
    "        for c in range(range_num(a,b,0,0,0)):\n",
    "            for d in range(range_num(a,b,c,0,0)):\n",
    "                for e in range(range_num(a,b,c,d,0)):\n",
    "                    for f in range(range_num(a,b,c,d,e)):\n",
    "                        counter += 1\n",
    "\n",
    "print(counter+1)\n",
    "\n",
    "print(f\"{perf_counter() - start} seconds\".rjust(100))"
   ]
  },
  {
   "cell_type": "markdown",
   "id": "d543d683",
   "metadata": {
    "tags": []
   },
   "source": [
    "    "
   ]
  },
  {
   "cell_type": "markdown",
   "id": "03125a92",
   "metadata": {},
   "source": [
    "#### 32: Pandigital Products"
   ]
  },
  {
   "cell_type": "code",
   "execution_count": 32,
   "id": "065ec53d",
   "metadata": {},
   "outputs": [
    {
     "name": "stdout",
     "output_type": "stream",
     "text": [
      "45228\n",
      "                                                                         0.03783830400000454 seconds\n"
     ]
    }
   ],
   "source": [
    "from time import perf_counter\n",
    "from string import digits\n",
    "\n",
    "start = perf_counter()\n",
    "\n",
    "def pandigital(a,b):\n",
    "    s = f\"{a}{b}{a*b}\"\n",
    "    if len(s) != 9: return False\n",
    "    for digit in digits[1:]:\n",
    "        if digit not in s: return False\n",
    "    return True\n",
    "\n",
    "prods = set()\n",
    "for a in range(1,100):\n",
    "    for b in range(100,10000//a):\n",
    "        if pandigital(a,b):\n",
    "            prods.add(a*b)\n",
    "print(sum(prods))\n",
    "\n",
    "print(f\"{perf_counter() - start} seconds\".rjust(100))"
   ]
  },
  {
   "cell_type": "markdown",
   "id": "6b83b21b",
   "metadata": {
    "tags": []
   },
   "source": [
    "    "
   ]
  },
  {
   "cell_type": "markdown",
   "id": "7c4bfaf2",
   "metadata": {},
   "source": [
    "#### 33: Digit Cancelling Fractions"
   ]
  },
  {
   "cell_type": "code",
   "execution_count": 33,
   "id": "f05045c2",
   "metadata": {},
   "outputs": [
    {
     "name": "stdout",
     "output_type": "stream",
     "text": [
      "\t\t16/64 = 1/4\n",
      "\t\t19/95 = 1/5\n",
      "\t\t26/65 = 2/5\n",
      "\t\t49/98 = 4/8\n",
      "1/100\n",
      "                                                                        0.006931334000000788 seconds\n"
     ]
    }
   ],
   "source": [
    "from time import perf_counter\n",
    "from fractions import Fraction\n",
    "\n",
    "start = perf_counter()\n",
    "\n",
    "prod = Fraction(1,1)\n",
    "for num in range(10, 99):\n",
    "    for denom in range(num+1, 100):\n",
    "        s1 = f\"{num}\"\n",
    "        s2 = f\"{denom}\"\n",
    "        for a1 in list(set(s1)&set(s2)):\n",
    "            if a1 != \"0\":\n",
    "                newnum = s1.replace(a1, \"\", 1)\n",
    "                newdenom = s2.replace(a1, \"\", 1)\n",
    "                if newdenom != \"0\":\n",
    "                    if num/denom == int(newnum)/int(newdenom):\n",
    "                        print(f\"\\t\\t{num}/{denom} = {newnum}/{newdenom}\")\n",
    "                        prod *= Fraction(num,denom)\n",
    "\n",
    "print(prod)\n",
    "\n",
    "print(f\"{perf_counter() - start} seconds\".rjust(100))"
   ]
  },
  {
   "cell_type": "markdown",
   "id": "bb8fe56d",
   "metadata": {
    "tags": []
   },
   "source": [
    "    "
   ]
  },
  {
   "cell_type": "markdown",
   "id": "055abf96",
   "metadata": {},
   "source": [
    "#### 34: Digit Factorials"
   ]
  },
  {
   "cell_type": "code",
   "execution_count": 34,
   "id": "c63d18c7",
   "metadata": {},
   "outputs": [
    {
     "name": "stdout",
     "output_type": "stream",
     "text": [
      "40730\n",
      "                                                                          0.1905263299999973 seconds\n"
     ]
    }
   ],
   "source": [
    "import math\n",
    "from time import perf_counter\n",
    "\n",
    "start = perf_counter()\n",
    "\n",
    "def digit_factorial(n):\n",
    "    return sum(math.factorial(int(d)) for d in f\"{n}\")\n",
    "\n",
    "print(sum([num for num in range(3,100000) if num == digit_factorial(num)]))\n",
    "\n",
    "print(f\"{perf_counter() - start} seconds\".rjust(100))"
   ]
  },
  {
   "cell_type": "markdown",
   "id": "4c0fd07f",
   "metadata": {
    "tags": []
   },
   "source": [
    "    "
   ]
  },
  {
   "cell_type": "markdown",
   "id": "39d3837a",
   "metadata": {},
   "source": [
    "#### 35: Circular Primes"
   ]
  },
  {
   "cell_type": "code",
   "execution_count": 35,
   "id": "caec50f8",
   "metadata": {},
   "outputs": [
    {
     "name": "stdout",
     "output_type": "stream",
     "text": [
      "55\n",
      "                                                                           1.945506254999998 seconds\n"
     ]
    }
   ],
   "source": [
    "import math\n",
    "from time import perf_counter\n",
    "\n",
    "start = perf_counter()\n",
    "\n",
    "def get_cycles(n):\n",
    "    num = f\"{n}\"\n",
    "    res = set([])\n",
    "    for _ in range(len(num)):\n",
    "        num = num[1:] + num[0]\n",
    "        res.add(int(num))\n",
    "    return res\n",
    "\n",
    "def check_num(number):\n",
    "    while number:\n",
    "        if (number%10) % 2 == 0 or (number%10) % 5 == 0:\n",
    "            return False\n",
    "        number //= 10\n",
    "    return True\n",
    "\n",
    "def get_primes(n):\n",
    "    primes = 2*[False] + (n-1)*[True]\n",
    "    for i in range(2, int(math.sqrt(n) + 1)):\n",
    "        for j in range(i*i, n+1, i):\n",
    "            primes[j] = False\n",
    "    return [prime for prime, is_true in enumerate(primes) if is_true]\n",
    "\n",
    "primes = get_primes(1000000)\n",
    "circular_primes = 0\n",
    "for p in primes:\n",
    "    if check_num(p):\n",
    "        cycles = get_cycles(p)\n",
    "        circular_primes += 1\n",
    "        for c in cycles:\n",
    "            if c not in primes:\n",
    "                circular_primes -= 1\n",
    "                break\n",
    "\n",
    "print(circular_primes + 2)\n",
    "    \n",
    "print(f\"{perf_counter() - start} seconds\".rjust(100))"
   ]
  },
  {
   "cell_type": "markdown",
   "id": "968660eb",
   "metadata": {
    "tags": []
   },
   "source": [
    "    "
   ]
  },
  {
   "cell_type": "markdown",
   "id": "363ae3c7",
   "metadata": {},
   "source": [
    "#### 36: Double-Base Palindromes"
   ]
  },
  {
   "cell_type": "code",
   "execution_count": 36,
   "id": "eca90afc",
   "metadata": {},
   "outputs": [
    {
     "name": "stdout",
     "output_type": "stream",
     "text": [
      "872187\n",
      "                                                                          0.3460063799999773 seconds\n"
     ]
    }
   ],
   "source": [
    "from time import perf_counter\n",
    "\n",
    "start = perf_counter()\n",
    "\n",
    "def int_to_bin(num):\n",
    "    return f'{num:b}'\n",
    "\n",
    "def is_palin(s):\n",
    "    return s == s[::-1]\n",
    "\n",
    "print(sum([n for n in range(1000000) if is_palin(f\"{n}\") and is_palin(int_to_bin(n))]))\n",
    "\n",
    "print(f\"{perf_counter() - start} seconds\".rjust(100))"
   ]
  },
  {
   "cell_type": "markdown",
   "id": "2b6d05df",
   "metadata": {
    "tags": []
   },
   "source": [
    "    "
   ]
  },
  {
   "cell_type": "markdown",
   "id": "98484f73",
   "metadata": {},
   "source": [
    "#### 37: Truncatable Primes"
   ]
  },
  {
   "cell_type": "code",
   "execution_count": 37,
   "id": "62cec5ba",
   "metadata": {},
   "outputs": [
    {
     "name": "stdout",
     "output_type": "stream",
     "text": [
      "748317\n",
      "                                                                          2.7761585470000227 seconds\n"
     ]
    }
   ],
   "source": [
    "import math\n",
    "from time import perf_counter\n",
    "\n",
    "start = perf_counter()\n",
    "\n",
    "def get_cycles(n):\n",
    "    res = set([])\n",
    "    for i in range(1,len(n)):\n",
    "        res.add(n[i:])\n",
    "        res.add(n[:i])\n",
    "    return res\n",
    "\n",
    "def get_primes(n):\n",
    "    primes = 2*[False] + (n-1)*[True]\n",
    "    for i in range(2, int(math.sqrt(n) + 1)):\n",
    "        for j in range(i*i, n+1, i):\n",
    "            primes[j] = False\n",
    "    return [f\"{prime}\" for prime, is_true in enumerate(primes) if is_true]\n",
    "\n",
    "all_primes = get_primes(1000000)\n",
    "trunc_primes = []\n",
    "p1 = [\"2\",\"3\",\"5\",\"7\"]\n",
    "primes = [n for n in all_primes if int(n) > 10 and n[0] in p1 and n[-1] in p1]\n",
    "\n",
    "for p in primes:\n",
    "    if not set(p).intersection(set([\"4\",\"6\",\"8\",\"0\"])):\n",
    "        for n in get_cycles(p):\n",
    "            if n not in all_primes: break\n",
    "        else:\n",
    "            trunc_primes.append(p)\n",
    "\n",
    "trunc_primes = map(int, trunc_primes)         \n",
    "print(sum(trunc_primes))\n",
    "\n",
    "print(f\"{perf_counter() - start} seconds\".rjust(100))"
   ]
  },
  {
   "cell_type": "markdown",
   "id": "8ac29b32",
   "metadata": {
    "tags": []
   },
   "source": [
    "    "
   ]
  },
  {
   "cell_type": "markdown",
   "id": "a15b9f1d",
   "metadata": {},
   "source": [
    "#### 38: Pandigital Multiples"
   ]
  },
  {
   "cell_type": "code",
   "execution_count": 38,
   "id": "a7ae47c7",
   "metadata": {},
   "outputs": [
    {
     "name": "stdout",
     "output_type": "stream",
     "text": [
      "932718654\n",
      "                                                                         0.08658362299999567 seconds\n"
     ]
    }
   ],
   "source": [
    "from time import perf_counter\n",
    "\n",
    "start = perf_counter()\n",
    "\n",
    "def pandigital_res(a):\n",
    "    i = 3\n",
    "    s = f\"{a*1}{a*2}\"\n",
    "    while len(s) < 9:\n",
    "        s += f\"{a*i}\"\n",
    "        i += 1\n",
    "    if len(s) > 9: return False\n",
    "    return s if \"\".join(sorted(s)) == \"123456789\" else False\n",
    "\n",
    "ranges = set([])\n",
    "checking = [list(range(i, 10**len(f\"{i}\"))) for i in [9,90,900,9000,90000,900000]]\n",
    "checking = sum(checking, [])\n",
    "\n",
    "for n in checking:\n",
    "    res = pandigital_res(n)\n",
    "    if res:\n",
    "        ranges.add(res)\n",
    "print(max(ranges))\n",
    "\n",
    "print(f\"{perf_counter() - start} seconds\".rjust(100))"
   ]
  },
  {
   "cell_type": "markdown",
   "id": "55584149",
   "metadata": {
    "tags": []
   },
   "source": [
    "    "
   ]
  },
  {
   "cell_type": "markdown",
   "id": "fde3ea0d",
   "metadata": {},
   "source": [
    "#### 39: Integer Right Triangles"
   ]
  },
  {
   "cell_type": "code",
   "execution_count": 40,
   "id": "8614bf35",
   "metadata": {},
   "outputs": [
    {
     "name": "stdout",
     "output_type": "stream",
     "text": [
      "840\n",
      "                                                                         0.03702525699998205 seconds\n"
     ]
    }
   ],
   "source": [
    "import math\n",
    "from time import perf_counter\n",
    "from collections import Counter\n",
    "\n",
    "start = perf_counter()\n",
    "\n",
    "def find_perims(limit):\n",
    "    perims = []\n",
    "    for a in range(1, limit//2):\n",
    "        for b in range(a, limit//2):\n",
    "            c = math.sqrt(a*a + b*b)\n",
    "            if c.is_integer() and a + b + c <= limit:\n",
    "                perims.append(int(a+b+c))\n",
    "    return perims\n",
    "                \n",
    "p = Counter(find_perims(1000))\n",
    "\n",
    "print(p.most_common(1)[0][0])\n",
    "\n",
    "print(f\"{perf_counter() - start} seconds\".rjust(100))"
   ]
  },
  {
   "cell_type": "markdown",
   "id": "034cfaaf",
   "metadata": {
    "tags": []
   },
   "source": [
    "    "
   ]
  },
  {
   "cell_type": "markdown",
   "id": "041f5dce",
   "metadata": {
    "tags": []
   },
   "source": [
    "#### 40: Champernowne's Constant"
   ]
  },
  {
   "cell_type": "code",
   "execution_count": 41,
   "id": "de4773fd",
   "metadata": {},
   "outputs": [
    {
     "name": "stdout",
     "output_type": "stream",
     "text": [
      "210\n",
      "                                                                         0.29197433800001704 seconds\n"
     ]
    }
   ],
   "source": [
    "import math\n",
    "from time import perf_counter\n",
    "\n",
    "start = perf_counter()\n",
    "\n",
    "def exp_range(n):\n",
    "    i = 1\n",
    "    while i <= n:\n",
    "        yield i\n",
    "        i *= 10\n",
    "        \n",
    "limit = 1000000\n",
    "champ = \".\" + \"\".join(map(str,list(range(1,limit))))\n",
    "prod = math.prod([int(champ[i]) for i in exp_range(limit)])\n",
    "\n",
    "print(prod)\n",
    "\n",
    "print(f\"{perf_counter() - start} seconds\".rjust(100))"
   ]
  },
  {
   "cell_type": "markdown",
   "id": "a37365d1",
   "metadata": {
    "tags": []
   },
   "source": [
    "    "
   ]
  },
  {
   "cell_type": "markdown",
   "id": "826e077c",
   "metadata": {
    "tags": []
   },
   "source": [
    "#### 41: Pandigital Prime"
   ]
  },
  {
   "cell_type": "code",
   "execution_count": 42,
   "id": "80118d15",
   "metadata": {},
   "outputs": [
    {
     "name": "stdout",
     "output_type": "stream",
     "text": [
      "7652413\n",
      "                                                                          0.3880065760000093 seconds\n"
     ]
    }
   ],
   "source": [
    "import math\n",
    "from time import perf_counter\n",
    "from itertools import permutations\n",
    "\n",
    "start = perf_counter()\n",
    "\n",
    "def is_prime(n):\n",
    "    if f\"{n}\"[-1] not in \"1379\": return False\n",
    "\n",
    "    for i in range(2,int(math.sqrt(n))+1):\n",
    "        if n%i == 0:\n",
    "            return False\n",
    "    return True\n",
    "\n",
    "def big_pan_prime():\n",
    "    d = \"987654321\"\n",
    "    \n",
    "    for index in range(9):\n",
    "        pandigits = permutations(d[index:])\n",
    "        for p in pandigits:\n",
    "            n = int(\"\".join(p))\n",
    "            if is_prime(n):\n",
    "                return n\n",
    "\n",
    "print(big_pan_prime())\n",
    "\n",
    "print(f\"{perf_counter() - start} seconds\".rjust(100))"
   ]
  },
  {
   "cell_type": "markdown",
   "id": "31b56448",
   "metadata": {
    "tags": []
   },
   "source": [
    "    "
   ]
  },
  {
   "cell_type": "markdown",
   "id": "d691a71f",
   "metadata": {
    "tags": []
   },
   "source": [
    "#### 42: Coded Triangle Numbers"
   ]
  },
  {
   "cell_type": "code",
   "execution_count": 43,
   "id": "a914f4e1",
   "metadata": {},
   "outputs": [
    {
     "name": "stdout",
     "output_type": "stream",
     "text": [
      "162\n",
      "                                                                       0.0074618680000071436 seconds\n"
     ]
    }
   ],
   "source": [
    "import math\n",
    "from time import perf_counter\n",
    "from string import ascii_uppercase as uc\n",
    "\n",
    "start = perf_counter()\n",
    "\n",
    "def open_file(path):        \n",
    "    with open(path, \"r\") as f:\n",
    "        return f.read().replace('\"',\"\").split(\",\")\n",
    "\n",
    "def is_triangular(word):\n",
    "    word_val = get_word_val(word)\n",
    "    return ((-1 + math.sqrt(1 + 8 * word_val)) / 2).is_integer()\n",
    "\n",
    "def get_word_val(word):\n",
    "    return sum([uc.index(l) + 1 for l in word])\n",
    "\n",
    "word_list = open_file(\"words.txt\")\n",
    "print(sum([is_triangular(word) for word in word_list]))\n",
    "\n",
    "print(f\"{perf_counter() - start} seconds\".rjust(100))"
   ]
  },
  {
   "cell_type": "markdown",
   "id": "d015765f",
   "metadata": {
    "tags": []
   },
   "source": [
    "    "
   ]
  },
  {
   "cell_type": "markdown",
   "id": "af6c9ce9",
   "metadata": {
    "tags": []
   },
   "source": [
    "#### 43: Sub-String Divisibility"
   ]
  },
  {
   "cell_type": "markdown",
   "id": "de226efc",
   "metadata": {},
   "source": [
    "<font color='cyan'>**my code**</font>"
   ]
  },
  {
   "cell_type": "code",
   "execution_count": 44,
   "id": "17494614",
   "metadata": {},
   "outputs": [
    {
     "name": "stdout",
     "output_type": "stream",
     "text": [
      "16695334890\n",
      "                                                                           4.677757358000008 seconds\n"
     ]
    }
   ],
   "source": [
    "import math\n",
    "from time import perf_counter\n",
    "from itertools import permutations\n",
    "from string import digits\n",
    "\n",
    "start = perf_counter()\n",
    "\n",
    "def is_special(n):\n",
    "    primes = [(1,2),(2,3),(3,5),(4,7),(5,11),(6,13),(7,17)]\n",
    "    # keeping track of index as part of the tuple makes the\n",
    "    # calculation half a second shorter than using enumerate\n",
    "    \n",
    "    for i, p in primes:\n",
    "        if int(n[i:i+3]) % p != 0:\n",
    "            return False\n",
    "    return True\n",
    "\n",
    "perms = permutations(digits)\n",
    "\n",
    "print(sum([int(p:=\"\".join(perm)) * is_special(p) for perm in perms]))\n",
    "\n",
    "print(f\"{perf_counter() - start} seconds\".rjust(100))"
   ]
  },
  {
   "cell_type": "markdown",
   "id": "0fdaa1cb",
   "metadata": {},
   "source": [
    "<font color='olive'>**not my code but way faster**</font>"
   ]
  },
  {
   "cell_type": "code",
   "execution_count": 45,
   "id": "55851962",
   "metadata": {},
   "outputs": [
    {
     "name": "stdout",
     "output_type": "stream",
     "text": [
      "16695334890\n",
      "                                                                       0.0011716009999815924 seconds\n"
     ]
    }
   ],
   "source": [
    "from time import perf_counter\n",
    "\n",
    "start = perf_counter()\n",
    "\n",
    "divisors = [13, 11, 7, 5, 3, 2, 1]\n",
    "res = []\n",
    "res1 = []\n",
    "\n",
    "j = 1\n",
    "while j*17 < 1000:\n",
    "    N = j*17\n",
    "    Nstr = str(N)\n",
    "    if len(set(Nstr)) == len(Nstr):\n",
    "        if N < 100: res.append('0' + str(N))\n",
    "        else: res.append(str(N))\n",
    "    j += 1\n",
    "\n",
    "for div in divisors:\n",
    "    for Nstr in res:\n",
    "        for d in digits:\n",
    "            if d not in Nstr:\n",
    "                Newstr = d + Nstr[:2]\n",
    "                if int(Newstr)%div == 0:\n",
    "                    res1.append(d + Nstr)\n",
    "    res = res1\n",
    "    res1 = []\n",
    "\n",
    "print(sum([int(Nstr)for Nstr in res]))\n",
    "\n",
    "print(f\"{perf_counter() - start} seconds\".rjust(100))"
   ]
  },
  {
   "cell_type": "markdown",
   "id": "9e600e17",
   "metadata": {
    "tags": []
   },
   "source": [
    "    "
   ]
  },
  {
   "cell_type": "markdown",
   "id": "a074e6cf",
   "metadata": {
    "tags": []
   },
   "source": [
    "#### 44: Pentagon Numbers"
   ]
  },
  {
   "cell_type": "code",
   "execution_count": 46,
   "id": "fccb1036",
   "metadata": {},
   "outputs": [
    {
     "name": "stdout",
     "output_type": "stream",
     "text": [
      "5482660\n",
      "                                                                          1.9151518719999956 seconds\n"
     ]
    }
   ],
   "source": [
    "import math\n",
    "from time import perf_counter\n",
    "\n",
    "start = perf_counter()\n",
    "\n",
    "def is_pentagonal(val):\n",
    "    return (1 + math.sqrt(1 + 24 * val)) % 6 == 0\n",
    "\n",
    "found = False\n",
    "for i in range(1, 1000001):\n",
    "    if found: break\n",
    "    for j in range(1, i):\n",
    "        a = i * (3 * i - 1) // 2\n",
    "        b = j * (3 * j - 1) // 2\n",
    "        if is_pentagonal(a+b) and is_pentagonal(a-b):\n",
    "            print(a-b)\n",
    "            found = True\n",
    "            break\n",
    "\n",
    "print(f\"{perf_counter() - start} seconds\".rjust(100))"
   ]
  },
  {
   "cell_type": "markdown",
   "id": "85349490",
   "metadata": {
    "tags": []
   },
   "source": [
    "    "
   ]
  },
  {
   "cell_type": "markdown",
   "id": "d7860a6c",
   "metadata": {
    "tags": []
   },
   "source": [
    "#### 45: Triangular, Pentagonal, and Hexagonal"
   ]
  },
  {
   "cell_type": "code",
   "execution_count": 47,
   "id": "78078715",
   "metadata": {},
   "outputs": [
    {
     "name": "stdout",
     "output_type": "stream",
     "text": [
      "1533776805\n",
      "                                                                        0.022279918000009502 seconds\n"
     ]
    }
   ],
   "source": [
    "import math\n",
    "from time import perf_counter\n",
    "\n",
    "start = perf_counter()\n",
    "\n",
    "def is_pentagonal(val):\n",
    "    return (1 + math.sqrt(1 + 24 * val)) % 6 == 0\n",
    "\n",
    "def is_triangular(val):\n",
    "    return (-1 + math.sqrt(1 + 8 * val)) % 2 == 0\n",
    "\n",
    "i = 143\n",
    "found = False\n",
    "while not found:\n",
    "    i += 1\n",
    "    h = i * (2 * i - 1)\n",
    "    if is_pentagonal(h) and is_triangular(h):\n",
    "        found = True\n",
    "\n",
    "print(h)\n",
    "    \n",
    "print(f\"{perf_counter() - start} seconds\".rjust(100))"
   ]
  },
  {
   "cell_type": "markdown",
   "id": "a98b68ec",
   "metadata": {
    "tags": []
   },
   "source": [
    "    "
   ]
  },
  {
   "cell_type": "markdown",
   "id": "34652777",
   "metadata": {
    "tags": []
   },
   "source": [
    "#### 46: Goldbach's Other Conjecture"
   ]
  },
  {
   "cell_type": "code",
   "execution_count": 48,
   "id": "c2b5c01f",
   "metadata": {},
   "outputs": [
    {
     "name": "stdout",
     "output_type": "stream",
     "text": [
      "5777\n",
      "                                                                         0.16308012400000393 seconds\n"
     ]
    }
   ],
   "source": [
    "import math\n",
    "from time import perf_counter\n",
    "\n",
    "start = perf_counter()\n",
    "\n",
    "def get_primes(n):\n",
    "    primes = 2*[False] + (n-1)*[True]\n",
    "    for i in range(2, int(math.sqrt(n) + 1)):\n",
    "        for j in range(i*i, n+1, i):\n",
    "            primes[j] = False\n",
    "    return [prime for prime, is_true in enumerate(primes) if is_true]\n",
    "\n",
    "def goldbachian(n, primes):\n",
    "    i = 1\n",
    "    while (x := i**2*2) < n:\n",
    "        if n - x in primes:\n",
    "            return True\n",
    "        i += 1\n",
    "    return False\n",
    "\n",
    "primes = get_primes(10000)\n",
    "\n",
    "for n in range(3, 10000, 2):\n",
    "    if n in primes: \n",
    "        continue\n",
    "    if not goldbachian(n, primes):\n",
    "        print(n)\n",
    "        break\n",
    "\n",
    "print(f\"{perf_counter() - start} seconds\".rjust(100))"
   ]
  },
  {
   "cell_type": "markdown",
   "id": "e7471344",
   "metadata": {
    "tags": []
   },
   "source": [
    "    "
   ]
  },
  {
   "cell_type": "markdown",
   "id": "818f9db7",
   "metadata": {
    "tags": []
   },
   "source": [
    "#### 47: Distinct Primes Factors"
   ]
  },
  {
   "cell_type": "code",
   "execution_count": 49,
   "id": "26b47438",
   "metadata": {
    "tags": []
   },
   "outputs": [
    {
     "name": "stdout",
     "output_type": "stream",
     "text": [
      "134043\n",
      "                                                                           2.704357727999991 seconds\n"
     ]
    }
   ],
   "source": [
    "import math\n",
    "from time import perf_counter\n",
    "\n",
    "start = perf_counter()\n",
    "\n",
    "def num_prime_factors(n):\n",
    "    i = 2\n",
    "    a = set()\n",
    "    while i < n**0.5 or n == 1:\n",
    "        if n % i == 0:\n",
    "            n /= i\n",
    "            a.add(i)\n",
    "            i -= 1\n",
    "        i += 1\n",
    "    return (len(a)+1)\n",
    "\n",
    "j = 210\n",
    "while True:\n",
    "    s = 1\n",
    "    for i in range(4):\n",
    "        s = 0\n",
    "        if num_prime_factors(j+i) == 4:\n",
    "            s += 1\n",
    "        else:\n",
    "            j += s\n",
    "            break\n",
    "    else:\n",
    "        print(j)\n",
    "        break\n",
    "    j += 1\n",
    "\n",
    "print(f\"{perf_counter() - start} seconds\".rjust(100))"
   ]
  },
  {
   "cell_type": "markdown",
   "id": "69499cc9",
   "metadata": {
    "tags": []
   },
   "source": [
    "    "
   ]
  },
  {
   "cell_type": "markdown",
   "id": "62525af3",
   "metadata": {
    "tags": []
   },
   "source": [
    "#### 48: Self Powers"
   ]
  },
  {
   "cell_type": "code",
   "execution_count": 50,
   "id": "002c4c05",
   "metadata": {},
   "outputs": [
    {
     "name": "stdout",
     "output_type": "stream",
     "text": [
      "9110846700\n",
      "                                                                        0.009568247999993673 seconds\n"
     ]
    }
   ],
   "source": [
    "import math\n",
    "from time import perf_counter\n",
    "\n",
    "start = perf_counter()\n",
    "\n",
    "res = 0\n",
    "\n",
    "for i in range(1, 1001):\n",
    "    res += i**i\n",
    "    \n",
    "print(f\"{res}\"[-10:])\n",
    "\n",
    "print(f\"{perf_counter() - start} seconds\".rjust(100))"
   ]
  },
  {
   "cell_type": "markdown",
   "id": "1cb6391a",
   "metadata": {
    "tags": []
   },
   "source": [
    "    "
   ]
  },
  {
   "cell_type": "markdown",
   "id": "689b1ee0",
   "metadata": {
    "tags": []
   },
   "source": [
    "#### 49: Prime Permutations"
   ]
  },
  {
   "cell_type": "code",
   "execution_count": 51,
   "id": "97a39362",
   "metadata": {},
   "outputs": [
    {
     "name": "stdout",
     "output_type": "stream",
     "text": [
      "148748178147\n",
      "296962999629\n",
      "                                                                         0.31328302599999347 seconds\n"
     ]
    }
   ],
   "source": [
    "import math\n",
    "from itertools import permutations\n",
    "from time import perf_counter\n",
    "\n",
    "start = perf_counter()\n",
    "\n",
    "def fourdig_primes(n):\n",
    "    primes = 2*[False] + (n-1)*[True]\n",
    "    for i in range(2, int(math.sqrt(n) + 1)):\n",
    "        for j in range(i*i, n+1, i):\n",
    "            primes[j] = False\n",
    "    arr = [prime for prime, is_true in enumerate(primes) if is_true]\n",
    "    start_p = arr.index(1009)\n",
    "    return arr[start_p:]\n",
    "\n",
    "def prime_perms(primes):\n",
    "    arr2 = set([])\n",
    "    for prime in primes:\n",
    "        arr = set([])\n",
    "        for p in permutations(f\"{prime}\"):\n",
    "            if (n := int(\"\".join(p))) in primes:\n",
    "                arr.add(n)\n",
    "        arr2.add(frozenset(arr))\n",
    "    return [sorted(list(x)) for x in arr2 if len(x) >= 3]\n",
    "\n",
    "def get_three(arr):\n",
    "    l = len(arr)\n",
    "    for s in range(l-1):\n",
    "        for e in range(s+1, l):\n",
    "            diff = arr[e] - arr[s]\n",
    "            if arr[e] + diff in arr:\n",
    "                print(f\"{arr[s]}{arr[e]}{arr[e] + diff}\")\n",
    "\n",
    "# 4 digit primes [1009 - 9973]\n",
    "primes = fourdig_primes(9973)\n",
    "perms = prime_perms(primes)\n",
    "for perm in perms:\n",
    "    get_three(perm)\n",
    "\n",
    "print(f\"{perf_counter() - start} seconds\".rjust(100))"
   ]
  },
  {
   "cell_type": "markdown",
   "id": "2ab6f6b6",
   "metadata": {
    "tags": []
   },
   "source": [
    "    "
   ]
  },
  {
   "cell_type": "markdown",
   "id": "d1939c09",
   "metadata": {
    "tags": []
   },
   "source": [
    "#### 50: Consecutive Prime Sum"
   ]
  },
  {
   "cell_type": "code",
   "execution_count": 52,
   "id": "bbe99692",
   "metadata": {},
   "outputs": [
    {
     "name": "stdout",
     "output_type": "stream",
     "text": [
      "997651\n",
      "                                                                          1.0386265149999758 seconds\n"
     ]
    }
   ],
   "source": [
    "import math\n",
    "from time import perf_counter\n",
    "\n",
    "start = perf_counter()\n",
    "\n",
    "def get_primes(n):\n",
    "    primes = 2*[False] + (n-1)*[True]\n",
    "    for i in range(2, int(math.sqrt(n) + 1)):\n",
    "        for j in range(i*i, n+1, i):\n",
    "            primes[j] = False\n",
    "    return [prime for prime, is_true in enumerate(primes) if is_true]\n",
    "\n",
    "primes = get_primes(1000000)\n",
    "\n",
    "allowed_s = [0, 0]\n",
    "lastj = len(primes)\n",
    "n = 1000000\n",
    "\n",
    "for i in range(len(primes)):\n",
    "    for j in range(i + allowed_s[1], lastj):\n",
    "        s = sum(primes[i:j])\n",
    "        if s > n: \n",
    "            lastj = j + 1\n",
    "            break\n",
    "        if s in primes:\n",
    "            allowed_s = [s, j-i]     \n",
    "\n",
    "print(allowed_s[0])\n",
    "\n",
    "print(f\"{perf_counter() - start} seconds\".rjust(100))"
   ]
  },
  {
   "cell_type": "code",
   "execution_count": null,
   "id": "80ab6d36",
   "metadata": {},
   "outputs": [],
   "source": []
  }
 ],
 "metadata": {
  "kernelspec": {
   "display_name": "Python 3 (ipykernel)",
   "language": "python",
   "name": "python3"
  },
  "language_info": {
   "codemirror_mode": {
    "name": "ipython",
    "version": 3
   },
   "file_extension": ".py",
   "mimetype": "text/x-python",
   "name": "python",
   "nbconvert_exporter": "python",
   "pygments_lexer": "ipython3",
   "version": "3.9.10+"
  }
 },
 "nbformat": 4,
 "nbformat_minor": 5
}
